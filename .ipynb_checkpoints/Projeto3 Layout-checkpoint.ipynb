{
 "cells": [
  {
   "cell_type": "markdown",
   "metadata": {},
   "source": [
    "___\n",
    "## Ciência dos Dados - PROJETO 3 - INSPER"
   ]
  },
  {
   "cell_type": "markdown",
   "metadata": {},
   "source": [
    "___\n",
    "#### Arthur Alegro de Oliveira\n",
    "\n",
    "#### Rafael dos Santos\n",
    "\n",
    "#### José Antônio Bechara\n",
    "\n",
    "___"
   ]
  },
  {
   "cell_type": "markdown",
   "metadata": {},
   "source": [
    "# Classificação de Apps"
   ]
  },
  {
   "cell_type": "markdown",
   "metadata": {},
   "source": [
    "___\n",
    "\n",
    "## A. INTRODUÇÃO"
   ]
  },
  {
   "cell_type": "markdown",
   "metadata": {},
   "source": [
    "Objetivo: Prever a nota de um app da PlayStore ou da AppStore"
   ]
  },
  {
   "cell_type": "markdown",
   "metadata": {},
   "source": [
    "[Aqui mais espaço!]"
   ]
  },
  {
   "cell_type": "markdown",
   "metadata": {},
   "source": [
    "___\n",
    "## B. MINERANDO DADOS e CARACTERÍSTICAS DO DATASET"
   ]
  },
  {
   "cell_type": "markdown",
   "metadata": {},
   "source": [
    "[Detalhe aqui as características da base de dados além da análise descritiva.]"
   ]
  },
  {
   "cell_type": "code",
   "execution_count": 15,
   "metadata": {},
   "outputs": [],
   "source": [
    "from sklearn.model_selection import train_test_split\n",
    "from sklearn.neighbors import KNeighborsRegressor\n",
    "from sklearn.preprocessing import StandardScaler  \n",
    "from sklearn.metrics import mean_squared_error\n",
    "from sklearn.tree import DecisionTreeRegressor\n",
    "import matplotlib.pyplot as plt\n",
    "import statsmodels.api as sm\n",
    "import seaborn as sns\n",
    "import pandas as pd\n",
    "import numpy as np\n",
    "import json\n",
    "import os"
   ]
  },
  {
   "cell_type": "markdown",
   "metadata": {},
   "source": [
    "### BASE DE DADOS"
   ]
  },
  {
   "cell_type": "markdown",
   "metadata": {},
   "source": [
    "Carregando *database*:"
   ]
  },
  {
   "cell_type": "code",
   "execution_count": 2,
   "metadata": {},
   "outputs": [],
   "source": [
    "# Reading Google Play Store data:\n",
    "Google_data = pd.read_csv('googleplaystore.csv')"
   ]
  },
  {
   "cell_type": "code",
   "execution_count": 3,
   "metadata": {
    "scrolled": false
   },
   "outputs": [
    {
     "data": {
      "text/html": [
       "<div>\n",
       "<style scoped>\n",
       "    .dataframe tbody tr th:only-of-type {\n",
       "        vertical-align: middle;\n",
       "    }\n",
       "\n",
       "    .dataframe tbody tr th {\n",
       "        vertical-align: top;\n",
       "    }\n",
       "\n",
       "    .dataframe thead th {\n",
       "        text-align: right;\n",
       "    }\n",
       "</style>\n",
       "<table border=\"1\" class=\"dataframe\">\n",
       "  <thead>\n",
       "    <tr style=\"text-align: right;\">\n",
       "      <th></th>\n",
       "      <th>App</th>\n",
       "      <th>Category</th>\n",
       "      <th>Rating</th>\n",
       "      <th>Reviews</th>\n",
       "      <th>Size</th>\n",
       "      <th>Installs</th>\n",
       "      <th>Type</th>\n",
       "      <th>Price</th>\n",
       "      <th>Content Rating</th>\n",
       "      <th>Genres</th>\n",
       "      <th>Last Updated</th>\n",
       "      <th>Current Ver</th>\n",
       "      <th>Android Ver</th>\n",
       "    </tr>\n",
       "  </thead>\n",
       "  <tbody>\n",
       "    <tr>\n",
       "      <th>0</th>\n",
       "      <td>Photo Editor &amp; Candy Camera &amp; Grid &amp; ScrapBook</td>\n",
       "      <td>ART_AND_DESIGN</td>\n",
       "      <td>4.1</td>\n",
       "      <td>159</td>\n",
       "      <td>19M</td>\n",
       "      <td>10,000+</td>\n",
       "      <td>Free</td>\n",
       "      <td>0</td>\n",
       "      <td>Everyone</td>\n",
       "      <td>Art &amp; Design</td>\n",
       "      <td>January 7, 2018</td>\n",
       "      <td>1.0.0</td>\n",
       "      <td>4.0.3 and up</td>\n",
       "    </tr>\n",
       "  </tbody>\n",
       "</table>\n",
       "</div>"
      ],
      "text/plain": [
       "                                              App        Category  Rating  \\\n",
       "0  Photo Editor & Candy Camera & Grid & ScrapBook  ART_AND_DESIGN     4.1   \n",
       "\n",
       "  Reviews Size Installs  Type Price Content Rating        Genres  \\\n",
       "0     159  19M  10,000+  Free     0       Everyone  Art & Design   \n",
       "\n",
       "      Last Updated Current Ver   Android Ver  \n",
       "0  January 7, 2018       1.0.0  4.0.3 and up  "
      ]
     },
     "execution_count": 3,
     "metadata": {},
     "output_type": "execute_result"
    }
   ],
   "source": [
    "Google_data.head(1)"
   ]
  },
  {
   "cell_type": "markdown",
   "metadata": {},
   "source": [
    "Ao analisar o *database* notamos que algumas colunas possuem dados numéricos em sua essência, mas por possuir outros caracteres são interpretados como texto. A seguir, serão destrinchados os problemas em cada umas dessas colunas. As funções que serão usadas já estão definidas abaixo:"
   ]
  },
  {
   "cell_type": "code",
   "execution_count": 4,
   "metadata": {},
   "outputs": [],
   "source": [
    "def remove_last_char(word):\n",
    "    new_word = word[:-1]\n",
    "    return new_word\n",
    "\n",
    "def remove_comma(word):\n",
    "    new_word = \"\".join(word.split(','))\n",
    "    return new_word\n",
    "\n",
    "def remove_first_char(word):\n",
    "    if '$' in word:\n",
    "        new_word = word[1:]\n",
    "        return new_word\n",
    "    else:\n",
    "        return word"
   ]
  },
  {
   "cell_type": "markdown",
   "metadata": {},
   "source": [
    "Coluna `Size`:  \n",
    "* possui o último caractere não numérico"
   ]
  },
  {
   "cell_type": "code",
   "execution_count": 5,
   "metadata": {},
   "outputs": [],
   "source": [
    "Google_data['Size'] = Google_data['Size'].apply(remove_last_char)"
   ]
  },
  {
   "cell_type": "markdown",
   "metadata": {},
   "source": [
    " Coluna `Installs`:  \n",
    " * possui o último caractere não numérico\n",
    " * possui vírgulas como separador a cada $10^3$\n",
    " * possui dois tipos valores não itendificados (`Fre` e ` ` ) que serão descartados"
   ]
  },
  {
   "cell_type": "code",
   "execution_count": 6,
   "metadata": {},
   "outputs": [],
   "source": [
    "Google_data['Installs'] = Google_data['Installs'].apply(remove_last_char)\n",
    "Google_data['Installs'] = Google_data['Installs'].apply(remove_comma)\n",
    "Google_data['Installs'] = Google_data['Installs'][Google_data['Installs'] != 'Fre']\n",
    "Google_data['Installs'] = Google_data['Installs'][Google_data['Installs'] != '']"
   ]
  },
  {
   "cell_type": "markdown",
   "metadata": {},
   "source": [
    " Coluna `Price`: \n",
    "* possui o primeiro caractere $\\$$ quando não é valor nulo (ou seja, quando o aplicativo é gratuito)\n",
    "* possui um tipo de valor não identificado (`Everyone`) que será descartado"
   ]
  },
  {
   "cell_type": "code",
   "execution_count": 7,
   "metadata": {},
   "outputs": [],
   "source": [
    "Google_data['Price'] = Google_data['Price'].apply(remove_first_char)\n",
    "Google_data['Price'] = Google_data['Price'][Google_data['Price'] != 'Everyone']"
   ]
  },
  {
   "cell_type": "markdown",
   "metadata": {},
   "source": [
    "Coluna `Reviews`:\n",
    "* Possui um valor $3.0M$ (equivalente a $3000000$)"
   ]
  },
  {
   "cell_type": "code",
   "execution_count": 8,
   "metadata": {},
   "outputs": [],
   "source": [
    "Google_data['Reviews'] = Google_data['Reviews'].mask(Google_data['Reviews'] == '3.0M', 3000000)"
   ]
  },
  {
   "cell_type": "markdown",
   "metadata": {},
   "source": [
    "Com todas as filtragens e correções feitas, é possível modificar o tipo de dado para cada coluna de acordo com a necessidade. Logo, as colunas com valores qualitativos serão interpretadas como `category`, enquanto as colunas com valores quantitativos serão interpretadas como `float` ou `int`(dependendo se os valores originais possuem ou não casas decimais)."
   ]
  },
  {
   "cell_type": "code",
   "execution_count": 9,
   "metadata": {},
   "outputs": [],
   "source": [
    "Google_data['Category'] = Google_data['Category'].astype('category')\n",
    "Google_data['Rating'] = Google_data['Rating'].astype('float64')\n",
    "Google_data['Reviews'] = Google_data['Reviews'].astype('float64')\n",
    "Google_data['Installs'] = Google_data['Installs'].astype('float64')\n",
    "Google_data['Price'] = Google_data['Price'].astype('float64')\n",
    "Google_data['Content Rating'] = Google_data['Content Rating'].astype('category')\n",
    "Google_data['Genres'] = Google_data['Genres'].astype('category')"
   ]
  },
  {
   "cell_type": "markdown",
   "metadata": {},
   "source": [
    "Ainda que os dados sejam categóricos, alguns classificadores somente funcionam se todos os dados forem numéricos. O código abaixo resolve esse código, selecionando todos os possíveis valores dos dados categóricos e substituindo-os por valores numéricos. "
   ]
  },
  {
   "cell_type": "code",
   "execution_count": 10,
   "metadata": {},
   "outputs": [],
   "source": [
    "for column in ['Category', 'Content Rating', 'Genres']:\n",
    "    \n",
    "    values = list(Google_data[column].value_counts().keys())\n",
    "\n",
    "    for value, number in zip(values, range(len(values))):\n",
    "        Google_data[column] = Google_data[column].mask(Google_data[column] == value, number)"
   ]
  },
  {
   "cell_type": "code",
   "execution_count": 11,
   "metadata": {},
   "outputs": [],
   "source": [
    "usefull_columns = [\"App\", \"Category\", \"Rating\", \"Reviews\", \"Installs\", \"Price\", \"Content Rating\", \"Genres\"]\n",
    "Google_data = Google_data[usefull_columns]"
   ]
  },
  {
   "cell_type": "markdown",
   "metadata": {},
   "source": [
    "App --> str, ex:'Photo Editor & Candy Camera & Grid & ScrapBook' <br>\n",
    "Category --> str, ex: 'ART_AND_DESIGN' <br>\n",
    "Rating --> float, ex: 4.0999999 <br>\n",
    "Reviews --> str, ex: 159 <br>\n",
    "Installs --> str, ex: 10,000+ <br>\n",
    "Price --> str, ex: '0' <br>\n",
    "Content Rating --> str, ex: Everyone <br>\n",
    "Genres --> str, ex: 'Art & Design' <br>"
   ]
  },
  {
   "cell_type": "markdown",
   "metadata": {},
   "source": [
    "### ANÁLISE DESCRITIVA"
   ]
  },
  {
   "cell_type": "markdown",
   "metadata": {},
   "source": [
    "Para melhor compreensão dos dados que serão utilizados, uma análise mais detalhada de cada uma das variáveis se faz necessária.\n",
    "\n",
    "Inicialmente os dados serão abordados da seguinte forma:\n",
    "* Dados quantitativos serão exibidos em forma de histogramas\n",
    "* Dados qualitativos serão exibidor em forma de gráfico de barras"
   ]
  },
  {
   "cell_type": "code",
   "execution_count": 12,
   "metadata": {
    "scrolled": true
   },
   "outputs": [
    {
     "data": {
      "image/png": "[encoded data removed]",
      "text/plain": [
       "<Figure size 1800x720 with 1 Axes>"
      ]
     },
     "metadata": {
      "needs_background": "light"
     },
     "output_type": "display_data"
    },
    {
     "name": "stderr",
     "output_type": "stream",
     "text": [
      "C:\\Users\\rafae\\Anaconda3_2\\lib\\site-packages\\numpy\\lib\\histograms.py:754: RuntimeWarning: invalid value encountered in greater_equal\n",
      "  keep = (tmp_a >= first_edge)\n",
      "C:\\Users\\rafae\\Anaconda3_2\\lib\\site-packages\\numpy\\lib\\histograms.py:755: RuntimeWarning: invalid value encountered in less_equal\n",
      "  keep &= (tmp_a <= last_edge)\n"
     ]
    },
    {
     "data": {
      "image/png": "[encoded data removed]",
      "text/plain": [
       "<Figure size 1800x720 with 1 Axes>"
      ]
     },
     "metadata": {
      "needs_background": "light"
     },
     "output_type": "display_data"
    },
    {
     "data": {
      "image/png": "[encoded data removed]",
      "text/plain": [
       "<Figure size 1800x720 with 1 Axes>"
      ]
     },
     "metadata": {
      "needs_background": "light"
     },
     "output_type": "display_data"
    },
    {
     "data": {
      "image/png": "[encoded data removed]",
      "text/plain": [
       "<Figure size 1800x720 with 1 Axes>"
      ]
     },
     "metadata": {
      "needs_background": "light"
     },
     "output_type": "display_data"
    },
    {
     "data": {
      "image/png": "[encoded data removed]",
      "text/plain": [
       "<Figure size 1800x720 with 1 Axes>"
      ]
     },
     "metadata": {
      "needs_background": "light"
     },
     "output_type": "display_data"
    },
    {
     "data": {
      "image/png": "[encoded data removed]",
      "text/plain": [
       "<Figure size 1800x720 with 1 Axes>"
      ]
     },
     "metadata": {
      "needs_background": "light"
     },
     "output_type": "display_data"
    },
    {
     "data": {
      "image/png": "[encoded data removed]",
      "text/plain": [
       "<Figure size 1800x720 with 1 Axes>"
      ]
     },
     "metadata": {
      "needs_background": "light"
     },
     "output_type": "display_data"
    }
   ],
   "source": [
    "plt.figure(figsize=(25,10))\n",
    "plt.bar(Google_data['Category'].value_counts(normalize=True).keys(), Google_data['Category'].value_counts(normalize=True).values)\n",
    "plt.xticks(rotation='vertical')\n",
    "plt.title('\"Category\" Column')\n",
    "plt.grid()\n",
    "plt.show()\n",
    "\n",
    "plt.figure(figsize=(25,10))\n",
    "plt.hist(Google_data['Rating'], bins=50, density='normed')\n",
    "plt.title('\"Rating\" Column')\n",
    "plt.grid()\n",
    "plt.show()\n",
    "\n",
    "plt.figure(figsize=(25,10))\n",
    "plt.hist(Google_data['Reviews'], bins=50, density='normed')\n",
    "plt.title('\"Reviews\" Column')\n",
    "plt.grid()\n",
    "plt.show()\n",
    "\n",
    "plt.figure(figsize=(25,10))\n",
    "plt.hist(Google_data['Installs'], bins=50, density='normed')\n",
    "plt.title('\"Installs\" Column')\n",
    "plt.grid()\n",
    "plt.show()\n",
    "\n",
    "plt.figure(figsize=(25,10))\n",
    "plt.hist(Google_data['Price'], bins=50, density='normed')\n",
    "plt.title('\"Price\" Column')\n",
    "plt.grid()\n",
    "plt.show()\n",
    "\n",
    "plt.figure(figsize=(25,10))\n",
    "plt.bar(Google_data['Content Rating'].value_counts(normalize=True).keys(), Google_data['Content Rating'].value_counts(normalize=True).values)\n",
    "plt.xticks(rotation='vertical')\n",
    "plt.title('\"Content Rating\" Column')\n",
    "plt.grid()\n",
    "plt.show()\n",
    "\n",
    "plt.figure(figsize=(25,10))\n",
    "plt.bar(Google_data['Genres'].value_counts(normalize=True).keys(), Google_data['Genres'].value_counts(normalize=True).values)\n",
    "plt.xticks(rotation='vertical')\n",
    "plt.title('\"Genres\" Column')\n",
    "plt.grid()\n",
    "plt.show()"
   ]
  },
  {
   "cell_type": "code",
   "execution_count": 13,
   "metadata": {
    "scrolled": true
   },
   "outputs": [
    {
     "data": {
      "image/png": "[encoded data removed]",
      "text/plain": [
       "<Figure size 288x288 with 1 Axes>"
      ]
     },
     "metadata": {
      "needs_background": "light"
     },
     "output_type": "display_data"
    }
   ],
   "source": [
    "plt.matshow(Google_data.corr())\n",
    "plt.show()"
   ]
  },
  {
   "cell_type": "code",
   "execution_count": null,
   "metadata": {},
   "outputs": [],
   "source": []
  },
  {
   "cell_type": "code",
   "execution_count": 14,
   "metadata": {
    "scrolled": false
   },
   "outputs": [
    {
     "ename": "ValueError",
     "evalue": "color kwarg must have one color per data set. 10841 data sets and 1 colors were provided",
     "output_type": "error",
     "traceback": [
      "\u001b[1;31m---------------------------------------------------------------------------\u001b[0m",
      "\u001b[1;31mValueError\u001b[0m                                Traceback (most recent call last)",
      "\u001b[1;32m<ipython-input-14-ec5639b5a8f7>\u001b[0m in \u001b[0;36m<module>\u001b[1;34m\u001b[0m\n\u001b[1;32m----> 1\u001b[1;33m \u001b[0mplot\u001b[0m \u001b[1;33m=\u001b[0m \u001b[0msns\u001b[0m\u001b[1;33m.\u001b[0m\u001b[0mpairplot\u001b[0m\u001b[1;33m(\u001b[0m\u001b[0mGoogle_data\u001b[0m\u001b[1;33m)\u001b[0m\u001b[1;33m\u001b[0m\u001b[1;33m\u001b[0m\u001b[0m\n\u001b[0m",
      "\u001b[1;32m~\\Anaconda3_2\\lib\\site-packages\\seaborn\\axisgrid.py\u001b[0m in \u001b[0;36mpairplot\u001b[1;34m(data, hue, hue_order, palette, vars, x_vars, y_vars, kind, diag_kind, markers, height, aspect, dropna, plot_kws, diag_kws, grid_kws, size)\u001b[0m\n\u001b[0;32m   2105\u001b[0m     \u001b[1;32mif\u001b[0m \u001b[0mgrid\u001b[0m\u001b[1;33m.\u001b[0m\u001b[0msquare_grid\u001b[0m\u001b[1;33m:\u001b[0m\u001b[1;33m\u001b[0m\u001b[1;33m\u001b[0m\u001b[0m\n\u001b[0;32m   2106\u001b[0m         \u001b[1;32mif\u001b[0m \u001b[0mdiag_kind\u001b[0m \u001b[1;33m==\u001b[0m \u001b[1;34m\"hist\"\u001b[0m\u001b[1;33m:\u001b[0m\u001b[1;33m\u001b[0m\u001b[1;33m\u001b[0m\u001b[0m\n\u001b[1;32m-> 2107\u001b[1;33m             \u001b[0mgrid\u001b[0m\u001b[1;33m.\u001b[0m\u001b[0mmap_diag\u001b[0m\u001b[1;33m(\u001b[0m\u001b[0mplt\u001b[0m\u001b[1;33m.\u001b[0m\u001b[0mhist\u001b[0m\u001b[1;33m,\u001b[0m \u001b[1;33m**\u001b[0m\u001b[0mdiag_kws\u001b[0m\u001b[1;33m)\u001b[0m\u001b[1;33m\u001b[0m\u001b[1;33m\u001b[0m\u001b[0m\n\u001b[0m\u001b[0;32m   2108\u001b[0m         \u001b[1;32melif\u001b[0m \u001b[0mdiag_kind\u001b[0m \u001b[1;33m==\u001b[0m \u001b[1;34m\"kde\"\u001b[0m\u001b[1;33m:\u001b[0m\u001b[1;33m\u001b[0m\u001b[1;33m\u001b[0m\u001b[0m\n\u001b[0;32m   2109\u001b[0m             \u001b[0mdiag_kws\u001b[0m\u001b[1;33m.\u001b[0m\u001b[0msetdefault\u001b[0m\u001b[1;33m(\u001b[0m\u001b[1;34m\"shade\"\u001b[0m\u001b[1;33m,\u001b[0m \u001b[1;32mTrue\u001b[0m\u001b[1;33m)\u001b[0m\u001b[1;33m\u001b[0m\u001b[1;33m\u001b[0m\u001b[0m\n",
      "\u001b[1;32m~\\Anaconda3_2\\lib\\site-packages\\seaborn\\axisgrid.py\u001b[0m in \u001b[0;36mmap_diag\u001b[1;34m(self, func, **kwargs)\u001b[0m\n\u001b[0;32m   1397\u001b[0m                     \u001b[0mcolor\u001b[0m \u001b[1;33m=\u001b[0m \u001b[0mfixed_color\u001b[0m\u001b[1;33m\u001b[0m\u001b[1;33m\u001b[0m\u001b[0m\n\u001b[0;32m   1398\u001b[0m \u001b[1;33m\u001b[0m\u001b[0m\n\u001b[1;32m-> 1399\u001b[1;33m                 \u001b[0mfunc\u001b[0m\u001b[1;33m(\u001b[0m\u001b[0mdata_k\u001b[0m\u001b[1;33m,\u001b[0m \u001b[0mlabel\u001b[0m\u001b[1;33m=\u001b[0m\u001b[0mlabel_k\u001b[0m\u001b[1;33m,\u001b[0m \u001b[0mcolor\u001b[0m\u001b[1;33m=\u001b[0m\u001b[0mcolor\u001b[0m\u001b[1;33m,\u001b[0m \u001b[1;33m**\u001b[0m\u001b[0mkwargs\u001b[0m\u001b[1;33m)\u001b[0m\u001b[1;33m\u001b[0m\u001b[1;33m\u001b[0m\u001b[0m\n\u001b[0m\u001b[0;32m   1400\u001b[0m \u001b[1;33m\u001b[0m\u001b[0m\n\u001b[0;32m   1401\u001b[0m             \u001b[0mself\u001b[0m\u001b[1;33m.\u001b[0m\u001b[0m_clean_axis\u001b[0m\u001b[1;33m(\u001b[0m\u001b[0max\u001b[0m\u001b[1;33m)\u001b[0m\u001b[1;33m\u001b[0m\u001b[1;33m\u001b[0m\u001b[0m\n",
      "\u001b[1;32m~\\Anaconda3_2\\lib\\site-packages\\matplotlib\\pyplot.py\u001b[0m in \u001b[0;36mhist\u001b[1;34m(x, bins, range, density, weights, cumulative, bottom, histtype, align, orientation, rwidth, log, color, label, stacked, normed, data, **kwargs)\u001b[0m\n\u001b[0;32m   2659\u001b[0m         \u001b[0malign\u001b[0m\u001b[1;33m=\u001b[0m\u001b[0malign\u001b[0m\u001b[1;33m,\u001b[0m \u001b[0morientation\u001b[0m\u001b[1;33m=\u001b[0m\u001b[0morientation\u001b[0m\u001b[1;33m,\u001b[0m \u001b[0mrwidth\u001b[0m\u001b[1;33m=\u001b[0m\u001b[0mrwidth\u001b[0m\u001b[1;33m,\u001b[0m \u001b[0mlog\u001b[0m\u001b[1;33m=\u001b[0m\u001b[0mlog\u001b[0m\u001b[1;33m,\u001b[0m\u001b[1;33m\u001b[0m\u001b[1;33m\u001b[0m\u001b[0m\n\u001b[0;32m   2660\u001b[0m         \u001b[0mcolor\u001b[0m\u001b[1;33m=\u001b[0m\u001b[0mcolor\u001b[0m\u001b[1;33m,\u001b[0m \u001b[0mlabel\u001b[0m\u001b[1;33m=\u001b[0m\u001b[0mlabel\u001b[0m\u001b[1;33m,\u001b[0m \u001b[0mstacked\u001b[0m\u001b[1;33m=\u001b[0m\u001b[0mstacked\u001b[0m\u001b[1;33m,\u001b[0m \u001b[0mnormed\u001b[0m\u001b[1;33m=\u001b[0m\u001b[0mnormed\u001b[0m\u001b[1;33m,\u001b[0m\u001b[1;33m\u001b[0m\u001b[1;33m\u001b[0m\u001b[0m\n\u001b[1;32m-> 2661\u001b[1;33m         **({\"data\": data} if data is not None else {}), **kwargs)\n\u001b[0m\u001b[0;32m   2662\u001b[0m \u001b[1;33m\u001b[0m\u001b[0m\n\u001b[0;32m   2663\u001b[0m \u001b[1;33m\u001b[0m\u001b[0m\n",
      "\u001b[1;32m~\\Anaconda3_2\\lib\\site-packages\\matplotlib\\__init__.py\u001b[0m in \u001b[0;36minner\u001b[1;34m(ax, data, *args, **kwargs)\u001b[0m\n\u001b[0;32m   1808\u001b[0m                         \u001b[1;34m\"the Matplotlib list!)\"\u001b[0m \u001b[1;33m%\u001b[0m \u001b[1;33m(\u001b[0m\u001b[0mlabel_namer\u001b[0m\u001b[1;33m,\u001b[0m \u001b[0mfunc\u001b[0m\u001b[1;33m.\u001b[0m\u001b[0m__name__\u001b[0m\u001b[1;33m)\u001b[0m\u001b[1;33m,\u001b[0m\u001b[1;33m\u001b[0m\u001b[1;33m\u001b[0m\u001b[0m\n\u001b[0;32m   1809\u001b[0m                         RuntimeWarning, stacklevel=2)\n\u001b[1;32m-> 1810\u001b[1;33m             \u001b[1;32mreturn\u001b[0m \u001b[0mfunc\u001b[0m\u001b[1;33m(\u001b[0m\u001b[0max\u001b[0m\u001b[1;33m,\u001b[0m \u001b[1;33m*\u001b[0m\u001b[0margs\u001b[0m\u001b[1;33m,\u001b[0m \u001b[1;33m**\u001b[0m\u001b[0mkwargs\u001b[0m\u001b[1;33m)\u001b[0m\u001b[1;33m\u001b[0m\u001b[1;33m\u001b[0m\u001b[0m\n\u001b[0m\u001b[0;32m   1811\u001b[0m \u001b[1;33m\u001b[0m\u001b[0m\n\u001b[0;32m   1812\u001b[0m         inner.__doc__ = _add_data_doc(inner.__doc__,\n",
      "\u001b[1;32m~\\Anaconda3_2\\lib\\site-packages\\matplotlib\\axes\\_axes.py\u001b[0m in \u001b[0;36mhist\u001b[1;34m(self, x, bins, range, density, weights, cumulative, bottom, histtype, align, orientation, rwidth, log, color, label, stacked, normed, **kwargs)\u001b[0m\n\u001b[0;32m   6563\u001b[0m                     \u001b[1;34m\"color kwarg must have one color per data set. %d data \"\u001b[0m\u001b[1;33m\u001b[0m\u001b[1;33m\u001b[0m\u001b[0m\n\u001b[0;32m   6564\u001b[0m                     \"sets and %d colors were provided\" % (nx, len(color)))\n\u001b[1;32m-> 6565\u001b[1;33m                 \u001b[1;32mraise\u001b[0m \u001b[0mValueError\u001b[0m\u001b[1;33m(\u001b[0m\u001b[0merror_message\u001b[0m\u001b[1;33m)\u001b[0m\u001b[1;33m\u001b[0m\u001b[1;33m\u001b[0m\u001b[0m\n\u001b[0m\u001b[0;32m   6566\u001b[0m \u001b[1;33m\u001b[0m\u001b[0m\n\u001b[0;32m   6567\u001b[0m         \u001b[1;31m# If bins are not specified either explicitly or via range,\u001b[0m\u001b[1;33m\u001b[0m\u001b[1;33m\u001b[0m\u001b[1;33m\u001b[0m\u001b[0m\n",
      "\u001b[1;31mValueError\u001b[0m: color kwarg must have one color per data set. 10841 data sets and 1 colors were provided"
     ]
    },
    {
     "data": {
      "image/png": "[encoded data removed]",
      "text/plain": [
       "<Figure size 1260x1260 with 56 Axes>"
      ]
     },
     "metadata": {
      "needs_background": "light"
     },
     "output_type": "display_data"
    }
   ],
   "source": [
    "plot = sns.pairplot(Google_data)"
   ]
  },
  {
   "cell_type": "code",
   "execution_count": null,
   "metadata": {},
   "outputs": [],
   "source": []
  },
  {
   "cell_type": "markdown",
   "metadata": {},
   "source": [
    "___\n",
    "## C. MODELOS DE PREDIÇÃO"
   ]
  },
  {
   "cell_type": "markdown",
   "metadata": {},
   "source": [
    "Para utilizar os diferentes modelos de predição, primeiro é necessário separar o *database* em base de testes e base de treinamento.\n",
    "\n",
    "A base de treinamento será 70% do *database* e a base de testes os 30% restantes (aproximadamente)."
   ]
  },
  {
   "cell_type": "code",
   "execution_count": 16,
   "metadata": {},
   "outputs": [],
   "source": [
    "PlayStore_X = list(Google_data.columns)\n",
    "Google_data = Google_data.dropna()\n",
    "PlayStore_X.remove(\"App\")\n",
    "PlayStore_X.remove(\"Rating\")\n",
    "PlayStore_Y = 'Rating'\n",
    "\n",
    "Google_data_X = Google_data[PlayStore_X]\n",
    "Google_data_Y = Google_data[PlayStore_Y]\n",
    "\n",
    "X_train, X_test, y_train, y_test = train_test_split(Google_data_X,Google_data_Y,test_size=.3,random_state=0)"
   ]
  },
  {
   "cell_type": "markdown",
   "metadata": {},
   "source": []
  },
  {
   "cell_type": "code",
   "execution_count": 17,
   "metadata": {},
   "outputs": [],
   "source": [
    "def dummify(data, column_name):\n",
    "    df = data.copy()\n",
    "    df2 = pd.concat([df.drop(column_name, axis=1), pd.get_dummies(data[column_name], prefix=column_name)], axis=1)\n",
    "    return df2"
   ]
  },
  {
   "cell_type": "code",
   "execution_count": 18,
   "metadata": {},
   "outputs": [],
   "source": [
    "Google_data = dummify(Google_data, \"Category\")\n",
    "Google_data = dummify(Google_data, \"Content Rating\")\n",
    "Google_data = dummify(Google_data, \"Genres\")"
   ]
  },
  {
   "cell_type": "markdown",
   "metadata": {},
   "source": []
  },
  {
   "cell_type": "markdown",
   "metadata": {
    "collapsed": true
   },
   "source": [
    "o MODELO DE PREDIÇÃO PELA MÉDIA (Sem uso de variável explicativa)."
   ]
  },
  {
   "cell_type": "code",
   "execution_count": 19,
   "metadata": {},
   "outputs": [],
   "source": [
    "def mean_predict(training_dataframe, test_dataframe, column):\n",
    "    for val in test_dataframe:\n",
    "        mean = np.mean(training_dataframe[column])\n",
    "    return mean"
   ]
  },
  {
   "cell_type": "markdown",
   "metadata": {
    "collapsed": true
   },
   "source": [
    "o MODELO DOS K VIZINHOS MAIS PRÓXIMOS (K-Nearest Neighbors Regression)"
   ]
  },
  {
   "cell_type": "code",
   "execution_count": 20,
   "metadata": {},
   "outputs": [
    {
     "data": {
      "text/plain": [
       "App             object\n",
       "Rating         float64\n",
       "Reviews        float64\n",
       "Installs       float64\n",
       "Price          float64\n",
       "Category_0       uint8\n",
       "Category_1       uint8\n",
       "Category_2       uint8\n",
       "Category_3       uint8\n",
       "Category_4       uint8\n",
       "Category_5       uint8\n",
       "Category_6       uint8\n",
       "Category_7       uint8\n",
       "Category_8       uint8\n",
       "Category_9       uint8\n",
       "Category_10      uint8\n",
       "Category_11      uint8\n",
       "Category_12      uint8\n",
       "Category_13      uint8\n",
       "Category_14      uint8\n",
       "Category_15      uint8\n",
       "Category_16      uint8\n",
       "Category_17      uint8\n",
       "Category_18      uint8\n",
       "Category_19      uint8\n",
       "Category_20      uint8\n",
       "Category_21      uint8\n",
       "Category_22      uint8\n",
       "Category_23      uint8\n",
       "Category_24      uint8\n",
       "                ...   \n",
       "Genres_85        uint8\n",
       "Genres_86        uint8\n",
       "Genres_87        uint8\n",
       "Genres_88        uint8\n",
       "Genres_90        uint8\n",
       "Genres_91        uint8\n",
       "Genres_92        uint8\n",
       "Genres_93        uint8\n",
       "Genres_94        uint8\n",
       "Genres_95        uint8\n",
       "Genres_96        uint8\n",
       "Genres_97        uint8\n",
       "Genres_98        uint8\n",
       "Genres_99        uint8\n",
       "Genres_100       uint8\n",
       "Genres_101       uint8\n",
       "Genres_103       uint8\n",
       "Genres_105       uint8\n",
       "Genres_106       uint8\n",
       "Genres_107       uint8\n",
       "Genres_108       uint8\n",
       "Genres_109       uint8\n",
       "Genres_110       uint8\n",
       "Genres_111       uint8\n",
       "Genres_112       uint8\n",
       "Genres_113       uint8\n",
       "Genres_115       uint8\n",
       "Genres_116       uint8\n",
       "Genres_117       uint8\n",
       "Genres_118       uint8\n",
       "Length: 159, dtype: object"
      ]
     },
     "execution_count": 20,
     "metadata": {},
     "output_type": "execute_result"
    }
   ],
   "source": [
    "Google_data.dtypes"
   ]
  },
  {
   "cell_type": "code",
   "execution_count": 21,
   "metadata": {
    "scrolled": false
   },
   "outputs": [
    {
     "name": "stdout",
     "output_type": "stream",
     "text": [
      "0.2480746448633864\n"
     ]
    }
   ],
   "source": [
    "knn_model = KNeighborsRegressor(11)\n",
    "knn_model.fit(X_train, y_train)\n",
    "y_pred = knn_model.predict(X_test)\n",
    "\n",
    "print(mean_squared_error(y_test,y_pred))"
   ]
  },
  {
   "cell_type": "markdown",
   "metadata": {
    "collapsed": true
   },
   "source": [
    "o MODELO DE REGRESSÃO LINEAR (Multiple Linear Regression)"
   ]
  },
  {
   "cell_type": "code",
   "execution_count": 28,
   "metadata": {},
   "outputs": [],
   "source": [
    "def regress(X,Y):\n",
    "    X_cp = sm.add_constant(X)\n",
    "    model = sm.OLS(Y,X_cp)\n",
    "    results = model.fit()\n",
    "    return results\n",
    "\n",
    "def variablesLessAlpha(df, listX, y, alpha=0.05):\n",
    "    '''\n",
    "    Exclui todas as variaveis em que o P>|t| for maior que o alpha e retorna uma regressão linear\n",
    "    \n",
    "    df --> DataFrame\n",
    "    listX --> Lista de variaveis independentes\n",
    "    y --> Variavel dependente/a ser analizada \n",
    "    alpha --> nivel de significancia, 5% como padrão'''\n",
    "    \n",
    "    y = df[[y]]\n",
    "    xs = df[listX]\n",
    "    results = regress(xs, y)\n",
    "    actual_max = max(results.pvalues)\n",
    "\n",
    "    while actual_max > alpha:\n",
    "        actual_max = max(results.pvalues)\n",
    "        j = 0\n",
    "        if actual_max > alpha:\n",
    "            for e in list(results.pvalues):\n",
    "                j += 1\n",
    "                if e == actual_max:\n",
    "                    break\n",
    "            listX.remove(listX[j-2])\n",
    "            xs = df[listX]\n",
    "            results = regress(xs, y)\n",
    "            \n",
    "    return results"
   ]
  },
  {
   "cell_type": "code",
   "execution_count": 29,
   "metadata": {},
   "outputs": [
    {
     "data": {
      "text/html": [
       "<div>\n",
       "<style scoped>\n",
       "    .dataframe tbody tr th:only-of-type {\n",
       "        vertical-align: middle;\n",
       "    }\n",
       "\n",
       "    .dataframe tbody tr th {\n",
       "        vertical-align: top;\n",
       "    }\n",
       "\n",
       "    .dataframe thead th {\n",
       "        text-align: right;\n",
       "    }\n",
       "</style>\n",
       "<table border=\"1\" class=\"dataframe\">\n",
       "  <thead>\n",
       "    <tr style=\"text-align: right;\">\n",
       "      <th></th>\n",
       "      <th>App</th>\n",
       "      <th>Rating</th>\n",
       "      <th>Reviews</th>\n",
       "      <th>Installs</th>\n",
       "      <th>Price</th>\n",
       "      <th>Category_0</th>\n",
       "      <th>Category_1</th>\n",
       "      <th>Category_2</th>\n",
       "      <th>Category_3</th>\n",
       "      <th>Category_4</th>\n",
       "      <th>...</th>\n",
       "      <th>Genres_108</th>\n",
       "      <th>Genres_109</th>\n",
       "      <th>Genres_110</th>\n",
       "      <th>Genres_111</th>\n",
       "      <th>Genres_112</th>\n",
       "      <th>Genres_113</th>\n",
       "      <th>Genres_115</th>\n",
       "      <th>Genres_116</th>\n",
       "      <th>Genres_117</th>\n",
       "      <th>Genres_118</th>\n",
       "    </tr>\n",
       "  </thead>\n",
       "  <tbody>\n",
       "    <tr>\n",
       "      <th>0</th>\n",
       "      <td>Photo Editor &amp; Candy Camera &amp; Grid &amp; ScrapBook</td>\n",
       "      <td>4.1</td>\n",
       "      <td>159.0</td>\n",
       "      <td>10000.0</td>\n",
       "      <td>0.0</td>\n",
       "      <td>0</td>\n",
       "      <td>0</td>\n",
       "      <td>0</td>\n",
       "      <td>0</td>\n",
       "      <td>0</td>\n",
       "      <td>...</td>\n",
       "      <td>0</td>\n",
       "      <td>0</td>\n",
       "      <td>0</td>\n",
       "      <td>0</td>\n",
       "      <td>0</td>\n",
       "      <td>0</td>\n",
       "      <td>0</td>\n",
       "      <td>0</td>\n",
       "      <td>0</td>\n",
       "      <td>0</td>\n",
       "    </tr>\n",
       "    <tr>\n",
       "      <th>1</th>\n",
       "      <td>Coloring book moana</td>\n",
       "      <td>3.9</td>\n",
       "      <td>967.0</td>\n",
       "      <td>500000.0</td>\n",
       "      <td>0.0</td>\n",
       "      <td>0</td>\n",
       "      <td>0</td>\n",
       "      <td>0</td>\n",
       "      <td>0</td>\n",
       "      <td>0</td>\n",
       "      <td>...</td>\n",
       "      <td>0</td>\n",
       "      <td>0</td>\n",
       "      <td>0</td>\n",
       "      <td>0</td>\n",
       "      <td>0</td>\n",
       "      <td>0</td>\n",
       "      <td>0</td>\n",
       "      <td>0</td>\n",
       "      <td>0</td>\n",
       "      <td>0</td>\n",
       "    </tr>\n",
       "    <tr>\n",
       "      <th>2</th>\n",
       "      <td>U Launcher Lite – FREE Live Cool Themes, Hide ...</td>\n",
       "      <td>4.7</td>\n",
       "      <td>87510.0</td>\n",
       "      <td>5000000.0</td>\n",
       "      <td>0.0</td>\n",
       "      <td>0</td>\n",
       "      <td>0</td>\n",
       "      <td>0</td>\n",
       "      <td>0</td>\n",
       "      <td>0</td>\n",
       "      <td>...</td>\n",
       "      <td>0</td>\n",
       "      <td>0</td>\n",
       "      <td>0</td>\n",
       "      <td>0</td>\n",
       "      <td>0</td>\n",
       "      <td>0</td>\n",
       "      <td>0</td>\n",
       "      <td>0</td>\n",
       "      <td>0</td>\n",
       "      <td>0</td>\n",
       "    </tr>\n",
       "    <tr>\n",
       "      <th>3</th>\n",
       "      <td>Sketch - Draw &amp; Paint</td>\n",
       "      <td>4.5</td>\n",
       "      <td>215644.0</td>\n",
       "      <td>50000000.0</td>\n",
       "      <td>0.0</td>\n",
       "      <td>0</td>\n",
       "      <td>0</td>\n",
       "      <td>0</td>\n",
       "      <td>0</td>\n",
       "      <td>0</td>\n",
       "      <td>...</td>\n",
       "      <td>0</td>\n",
       "      <td>0</td>\n",
       "      <td>0</td>\n",
       "      <td>0</td>\n",
       "      <td>0</td>\n",
       "      <td>0</td>\n",
       "      <td>0</td>\n",
       "      <td>0</td>\n",
       "      <td>0</td>\n",
       "      <td>0</td>\n",
       "    </tr>\n",
       "    <tr>\n",
       "      <th>4</th>\n",
       "      <td>Pixel Draw - Number Art Coloring Book</td>\n",
       "      <td>4.3</td>\n",
       "      <td>967.0</td>\n",
       "      <td>100000.0</td>\n",
       "      <td>0.0</td>\n",
       "      <td>0</td>\n",
       "      <td>0</td>\n",
       "      <td>0</td>\n",
       "      <td>0</td>\n",
       "      <td>0</td>\n",
       "      <td>...</td>\n",
       "      <td>0</td>\n",
       "      <td>0</td>\n",
       "      <td>0</td>\n",
       "      <td>0</td>\n",
       "      <td>0</td>\n",
       "      <td>0</td>\n",
       "      <td>0</td>\n",
       "      <td>0</td>\n",
       "      <td>0</td>\n",
       "      <td>0</td>\n",
       "    </tr>\n",
       "  </tbody>\n",
       "</table>\n",
       "<p>5 rows × 159 columns</p>\n",
       "</div>"
      ],
      "text/plain": [
       "                                                 App  Rating   Reviews  \\\n",
       "0     Photo Editor & Candy Camera & Grid & ScrapBook     4.1     159.0   \n",
       "1                                Coloring book moana     3.9     967.0   \n",
       "2  U Launcher Lite – FREE Live Cool Themes, Hide ...     4.7   87510.0   \n",
       "3                              Sketch - Draw & Paint     4.5  215644.0   \n",
       "4              Pixel Draw - Number Art Coloring Book     4.3     967.0   \n",
       "\n",
       "     Installs  Price  Category_0  Category_1  Category_2  Category_3  \\\n",
       "0     10000.0    0.0           0           0           0           0   \n",
       "1    500000.0    0.0           0           0           0           0   \n",
       "2   5000000.0    0.0           0           0           0           0   \n",
       "3  50000000.0    0.0           0           0           0           0   \n",
       "4    100000.0    0.0           0           0           0           0   \n",
       "\n",
       "   Category_4     ...      Genres_108  Genres_109  Genres_110  Genres_111  \\\n",
       "0           0     ...               0           0           0           0   \n",
       "1           0     ...               0           0           0           0   \n",
       "2           0     ...               0           0           0           0   \n",
       "3           0     ...               0           0           0           0   \n",
       "4           0     ...               0           0           0           0   \n",
       "\n",
       "   Genres_112  Genres_113  Genres_115  Genres_116  Genres_117  Genres_118  \n",
       "0           0           0           0           0           0           0  \n",
       "1           0           0           0           0           0           0  \n",
       "2           0           0           0           0           0           0  \n",
       "3           0           0           0           0           0           0  \n",
       "4           0           0           0           0           0           0  \n",
       "\n",
       "[5 rows x 159 columns]"
      ]
     },
     "execution_count": 29,
     "metadata": {},
     "output_type": "execute_result"
    }
   ],
   "source": [
    "Google_data.head()"
   ]
  },
  {
   "cell_type": "code",
   "execution_count": 30,
   "metadata": {
    "scrolled": true
   },
   "outputs": [
    {
     "data": {
      "text/html": [
       "<table class=\"simpletable\">\n",
       "<caption>OLS Regression Results</caption>\n",
       "<tr>\n",
       "  <th>Dep. Variable:</th>         <td>Rating</td>      <th>  R-squared:         </th> <td>   0.044</td> \n",
       "</tr>\n",
       "<tr>\n",
       "  <th>Model:</th>                   <td>OLS</td>       <th>  Adj. R-squared:    </th> <td>   0.040</td> \n",
       "</tr>\n",
       "<tr>\n",
       "  <th>Method:</th>             <td>Least Squares</td>  <th>  F-statistic:       </th> <td>   12.14</td> \n",
       "</tr>\n",
       "<tr>\n",
       "  <th>Date:</th>             <td>Mon, 27 May 2019</td> <th>  Prob (F-statistic):</th> <td>9.25e-67</td> \n",
       "</tr>\n",
       "<tr>\n",
       "  <th>Time:</th>                 <td>10:23:02</td>     <th>  Log-Likelihood:    </th> <td> -6869.5</td> \n",
       "</tr>\n",
       "<tr>\n",
       "  <th>No. Observations:</th>      <td>  9366</td>      <th>  AIC:               </th> <td>1.381e+04</td>\n",
       "</tr>\n",
       "<tr>\n",
       "  <th>Df Residuals:</th>          <td>  9330</td>      <th>  BIC:               </th> <td>1.407e+04</td>\n",
       "</tr>\n",
       "<tr>\n",
       "  <th>Df Model:</th>              <td>    35</td>      <th>                     </th>     <td> </td>    \n",
       "</tr>\n",
       "<tr>\n",
       "  <th>Covariance Type:</th>      <td>nonrobust</td>    <th>                     </th>     <td> </td>    \n",
       "</tr>\n",
       "</table>\n",
       "<table class=\"simpletable\">\n",
       "<tr>\n",
       "          <td></td>            <th>coef</th>     <th>std err</th>      <th>t</th>      <th>P>|t|</th>  <th>[0.025</th>    <th>0.975]</th>  \n",
       "</tr>\n",
       "<tr>\n",
       "  <th>const</th>            <td>    4.1358</td> <td>    0.017</td> <td>  245.610</td> <td> 0.000</td> <td>    4.103</td> <td>    4.169</td>\n",
       "</tr>\n",
       "<tr>\n",
       "  <th>Reviews</th>          <td> 9.492e-09</td> <td> 1.71e-09</td> <td>    5.564</td> <td> 0.000</td> <td> 6.15e-09</td> <td> 1.28e-08</td>\n",
       "</tr>\n",
       "<tr>\n",
       "  <th>Category_0</th>       <td>    0.1719</td> <td>    0.019</td> <td>    9.240</td> <td> 0.000</td> <td>    0.135</td> <td>    0.208</td>\n",
       "</tr>\n",
       "<tr>\n",
       "  <th>Category_1</th>       <td>    0.3743</td> <td>    0.040</td> <td>    9.416</td> <td> 0.000</td> <td>    0.296</td> <td>    0.452</td>\n",
       "</tr>\n",
       "<tr>\n",
       "  <th>Category_3</th>       <td>    0.0436</td> <td>    0.014</td> <td>    3.063</td> <td> 0.002</td> <td>    0.016</td> <td>    0.071</td>\n",
       "</tr>\n",
       "<tr>\n",
       "  <th>Category_5</th>       <td>    0.0539</td> <td>    0.014</td> <td>    3.788</td> <td> 0.000</td> <td>    0.026</td> <td>    0.082</td>\n",
       "</tr>\n",
       "<tr>\n",
       "  <th>Category_6</th>       <td>    0.1142</td> <td>    0.015</td> <td>    7.643</td> <td> 0.000</td> <td>    0.085</td> <td>    0.144</td>\n",
       "</tr>\n",
       "<tr>\n",
       "  <th>Category_8</th>       <td>    0.1163</td> <td>    0.030</td> <td>    3.919</td> <td> 0.000</td> <td>    0.058</td> <td>    0.174</td>\n",
       "</tr>\n",
       "<tr>\n",
       "  <th>Category_11</th>      <td>    0.0861</td> <td>    0.015</td> <td>    5.615</td> <td> 0.000</td> <td>    0.056</td> <td>    0.116</td>\n",
       "</tr>\n",
       "<tr>\n",
       "  <th>Category_12</th>      <td>    0.0418</td> <td>    0.015</td> <td>    2.810</td> <td> 0.005</td> <td>    0.013</td> <td>    0.071</td>\n",
       "</tr>\n",
       "<tr>\n",
       "  <th>Category_13</th>      <td>    0.0543</td> <td>    0.017</td> <td>    3.197</td> <td> 0.001</td> <td>    0.021</td> <td>    0.088</td>\n",
       "</tr>\n",
       "<tr>\n",
       "  <th>Category_15</th>      <td>    0.0736</td> <td>    0.017</td> <td>    4.331</td> <td> 0.000</td> <td>    0.040</td> <td>    0.107</td>\n",
       "</tr>\n",
       "<tr>\n",
       "  <th>Category_17</th>      <td>   -0.0818</td> <td>    0.020</td> <td>   -4.131</td> <td> 0.000</td> <td>   -0.121</td> <td>   -0.043</td>\n",
       "</tr>\n",
       "<tr>\n",
       "  <th>Category_18</th>      <td>    0.1196</td> <td>    0.019</td> <td>    6.144</td> <td> 0.000</td> <td>    0.081</td> <td>    0.158</td>\n",
       "</tr>\n",
       "<tr>\n",
       "  <th>Category_20</th>      <td>    0.2837</td> <td>    0.042</td> <td>    6.829</td> <td> 0.000</td> <td>    0.202</td> <td>    0.365</td>\n",
       "</tr>\n",
       "<tr>\n",
       "  <th>Category_21</th>      <td>    0.1796</td> <td>    0.051</td> <td>    3.537</td> <td> 0.000</td> <td>    0.080</td> <td>    0.279</td>\n",
       "</tr>\n",
       "<tr>\n",
       "  <th>Category_27</th>      <td>    0.0700</td> <td>    0.029</td> <td>    2.375</td> <td> 0.018</td> <td>    0.012</td> <td>    0.128</td>\n",
       "</tr>\n",
       "<tr>\n",
       "  <th>Category_28</th>      <td>    0.2553</td> <td>    0.065</td> <td>    3.943</td> <td> 0.000</td> <td>    0.128</td> <td>    0.382</td>\n",
       "</tr>\n",
       "<tr>\n",
       "  <th>Category_29</th>      <td>    0.1641</td> <td>    0.038</td> <td>    4.329</td> <td> 0.000</td> <td>    0.090</td> <td>    0.238</td>\n",
       "</tr>\n",
       "<tr>\n",
       "  <th>Category_32</th>      <td>    0.0879</td> <td>    0.039</td> <td>    2.241</td> <td> 0.025</td> <td>    0.011</td> <td>    0.165</td>\n",
       "</tr>\n",
       "<tr>\n",
       "  <th>Content Rating_0</th> <td>   -0.0357</td> <td>    0.016</td> <td>   -2.301</td> <td> 0.021</td> <td>   -0.066</td> <td>   -0.005</td>\n",
       "</tr>\n",
       "<tr>\n",
       "  <th>Genres_1</th>         <td>   -0.2013</td> <td>    0.030</td> <td>   -6.794</td> <td> 0.000</td> <td>   -0.259</td> <td>   -0.143</td>\n",
       "</tr>\n",
       "<tr>\n",
       "  <th>Genres_3</th>         <td>    0.0436</td> <td>    0.014</td> <td>    3.063</td> <td> 0.002</td> <td>    0.016</td> <td>    0.071</td>\n",
       "</tr>\n",
       "<tr>\n",
       "  <th>Genres_5</th>         <td>    0.0539</td> <td>    0.014</td> <td>    3.788</td> <td> 0.000</td> <td>    0.026</td> <td>    0.082</td>\n",
       "</tr>\n",
       "<tr>\n",
       "  <th>Genres_7</th>         <td>    0.1142</td> <td>    0.015</td> <td>    7.643</td> <td> 0.000</td> <td>    0.085</td> <td>    0.144</td>\n",
       "</tr>\n",
       "<tr>\n",
       "  <th>Genres_11</th>        <td>   -0.2246</td> <td>    0.048</td> <td>   -4.709</td> <td> 0.000</td> <td>   -0.318</td> <td>   -0.131</td>\n",
       "</tr>\n",
       "<tr>\n",
       "  <th>Genres_12</th>        <td>    0.0861</td> <td>    0.015</td> <td>    5.615</td> <td> 0.000</td> <td>    0.056</td> <td>    0.116</td>\n",
       "</tr>\n",
       "<tr>\n",
       "  <th>Genres_13</th>        <td>    0.0418</td> <td>    0.015</td> <td>    2.810</td> <td> 0.005</td> <td>    0.013</td> <td>    0.071</td>\n",
       "</tr>\n",
       "<tr>\n",
       "  <th>Genres_14</th>        <td>    0.0543</td> <td>    0.017</td> <td>    3.197</td> <td> 0.001</td> <td>    0.021</td> <td>    0.088</td>\n",
       "</tr>\n",
       "<tr>\n",
       "  <th>Genres_16</th>        <td>    0.0736</td> <td>    0.017</td> <td>    4.331</td> <td> 0.000</td> <td>    0.040</td> <td>    0.107</td>\n",
       "</tr>\n",
       "<tr>\n",
       "  <th>Genres_18</th>        <td>   -0.0818</td> <td>    0.020</td> <td>   -4.131</td> <td> 0.000</td> <td>   -0.121</td> <td>   -0.043</td>\n",
       "</tr>\n",
       "<tr>\n",
       "  <th>Genres_19</th>        <td>    0.1196</td> <td>    0.019</td> <td>    6.144</td> <td> 0.000</td> <td>    0.081</td> <td>    0.158</td>\n",
       "</tr>\n",
       "<tr>\n",
       "  <th>Genres_20</th>        <td>   -0.1973</td> <td>    0.052</td> <td>   -3.785</td> <td> 0.000</td> <td>   -0.299</td> <td>   -0.095</td>\n",
       "</tr>\n",
       "<tr>\n",
       "  <th>Genres_21</th>        <td>   -0.1454</td> <td>    0.040</td> <td>   -3.670</td> <td> 0.000</td> <td>   -0.223</td> <td>   -0.068</td>\n",
       "</tr>\n",
       "<tr>\n",
       "  <th>Genres_22</th>        <td>   -0.1988</td> <td>    0.041</td> <td>   -4.884</td> <td> 0.000</td> <td>   -0.279</td> <td>   -0.119</td>\n",
       "</tr>\n",
       "<tr>\n",
       "  <th>Genres_28</th>        <td>   -0.1301</td> <td>    0.053</td> <td>   -2.442</td> <td> 0.015</td> <td>   -0.234</td> <td>   -0.026</td>\n",
       "</tr>\n",
       "<tr>\n",
       "  <th>Genres_29</th>        <td>   -0.3189</td> <td>    0.065</td> <td>   -4.903</td> <td> 0.000</td> <td>   -0.446</td> <td>   -0.191</td>\n",
       "</tr>\n",
       "<tr>\n",
       "  <th>Genres_33</th>        <td>    0.0700</td> <td>    0.029</td> <td>    2.375</td> <td> 0.018</td> <td>    0.012</td> <td>    0.128</td>\n",
       "</tr>\n",
       "<tr>\n",
       "  <th>Genres_34</th>        <td>   -0.3200</td> <td>    0.071</td> <td>   -4.509</td> <td> 0.000</td> <td>   -0.459</td> <td>   -0.181</td>\n",
       "</tr>\n",
       "<tr>\n",
       "  <th>Genres_35</th>        <td>    0.1641</td> <td>    0.038</td> <td>    4.329</td> <td> 0.000</td> <td>    0.090</td> <td>    0.238</td>\n",
       "</tr>\n",
       "<tr>\n",
       "  <th>Genres_38</th>        <td>    0.0879</td> <td>    0.039</td> <td>    2.241</td> <td> 0.025</td> <td>    0.011</td> <td>    0.165</td>\n",
       "</tr>\n",
       "<tr>\n",
       "  <th>Genres_40</th>        <td>   -0.4067</td> <td>    0.085</td> <td>   -4.797</td> <td> 0.000</td> <td>   -0.573</td> <td>   -0.240</td>\n",
       "</tr>\n",
       "<tr>\n",
       "  <th>Genres_41</th>        <td>    0.2378</td> <td>    0.080</td> <td>    2.961</td> <td> 0.003</td> <td>    0.080</td> <td>    0.395</td>\n",
       "</tr>\n",
       "<tr>\n",
       "  <th>Genres_42</th>        <td>   -0.1880</td> <td>    0.088</td> <td>   -2.140</td> <td> 0.032</td> <td>   -0.360</td> <td>   -0.016</td>\n",
       "</tr>\n",
       "<tr>\n",
       "  <th>Genres_44</th>        <td>   -0.2230</td> <td>    0.092</td> <td>   -2.415</td> <td> 0.016</td> <td>   -0.404</td> <td>   -0.042</td>\n",
       "</tr>\n",
       "<tr>\n",
       "  <th>Genres_45</th>        <td>   -0.4427</td> <td>    0.103</td> <td>   -4.300</td> <td> 0.000</td> <td>   -0.645</td> <td>   -0.241</td>\n",
       "</tr>\n",
       "<tr>\n",
       "  <th>Genres_46</th>        <td>   -0.4170</td> <td>    0.091</td> <td>   -4.590</td> <td> 0.000</td> <td>   -0.595</td> <td>   -0.239</td>\n",
       "</tr>\n",
       "<tr>\n",
       "  <th>Genres_51</th>        <td>   -0.2712</td> <td>    0.117</td> <td>   -2.323</td> <td> 0.020</td> <td>   -0.500</td> <td>   -0.042</td>\n",
       "</tr>\n",
       "</table>\n",
       "<table class=\"simpletable\">\n",
       "<tr>\n",
       "  <th>Omnibus:</th>       <td>3571.920</td> <th>  Durbin-Watson:     </th> <td>   1.816</td> \n",
       "</tr>\n",
       "<tr>\n",
       "  <th>Prob(Omnibus):</th>  <td> 0.000</td>  <th>  Jarque-Bera (JB):  </th> <td>18166.576</td>\n",
       "</tr>\n",
       "<tr>\n",
       "  <th>Skew:</th>           <td>-1.780</td>  <th>  Prob(JB):          </th> <td>    0.00</td> \n",
       "</tr>\n",
       "<tr>\n",
       "  <th>Kurtosis:</th>       <td> 8.820</td>  <th>  Cond. No.          </th> <td>1.01e+16</td> \n",
       "</tr>\n",
       "</table><br/><br/>Warnings:<br/>[1] Standard Errors assume that the covariance matrix of the errors is correctly specified.<br/>[2] The smallest eigenvalue is 9.24e-16. This might indicate that there are<br/>strong multicollinearity problems or that the design matrix is singular."
      ],
      "text/plain": [
       "<class 'statsmodels.iolib.summary.Summary'>\n",
       "\"\"\"\n",
       "                            OLS Regression Results                            \n",
       "==============================================================================\n",
       "Dep. Variable:                 Rating   R-squared:                       0.044\n",
       "Model:                            OLS   Adj. R-squared:                  0.040\n",
       "Method:                 Least Squares   F-statistic:                     12.14\n",
       "Date:                Mon, 27 May 2019   Prob (F-statistic):           9.25e-67\n",
       "Time:                        10:23:02   Log-Likelihood:                -6869.5\n",
       "No. Observations:                9366   AIC:                         1.381e+04\n",
       "Df Residuals:                    9330   BIC:                         1.407e+04\n",
       "Df Model:                          35                                         \n",
       "Covariance Type:            nonrobust                                         \n",
       "====================================================================================\n",
       "                       coef    std err          t      P>|t|      [0.025      0.975]\n",
       "------------------------------------------------------------------------------------\n",
       "const                4.1358      0.017    245.610      0.000       4.103       4.169\n",
       "Reviews           9.492e-09   1.71e-09      5.564      0.000    6.15e-09    1.28e-08\n",
       "Category_0           0.1719      0.019      9.240      0.000       0.135       0.208\n",
       "Category_1           0.3743      0.040      9.416      0.000       0.296       0.452\n",
       "Category_3           0.0436      0.014      3.063      0.002       0.016       0.071\n",
       "Category_5           0.0539      0.014      3.788      0.000       0.026       0.082\n",
       "Category_6           0.1142      0.015      7.643      0.000       0.085       0.144\n",
       "Category_8           0.1163      0.030      3.919      0.000       0.058       0.174\n",
       "Category_11          0.0861      0.015      5.615      0.000       0.056       0.116\n",
       "Category_12          0.0418      0.015      2.810      0.005       0.013       0.071\n",
       "Category_13          0.0543      0.017      3.197      0.001       0.021       0.088\n",
       "Category_15          0.0736      0.017      4.331      0.000       0.040       0.107\n",
       "Category_17         -0.0818      0.020     -4.131      0.000      -0.121      -0.043\n",
       "Category_18          0.1196      0.019      6.144      0.000       0.081       0.158\n",
       "Category_20          0.2837      0.042      6.829      0.000       0.202       0.365\n",
       "Category_21          0.1796      0.051      3.537      0.000       0.080       0.279\n",
       "Category_27          0.0700      0.029      2.375      0.018       0.012       0.128\n",
       "Category_28          0.2553      0.065      3.943      0.000       0.128       0.382\n",
       "Category_29          0.1641      0.038      4.329      0.000       0.090       0.238\n",
       "Category_32          0.0879      0.039      2.241      0.025       0.011       0.165\n",
       "Content Rating_0    -0.0357      0.016     -2.301      0.021      -0.066      -0.005\n",
       "Genres_1            -0.2013      0.030     -6.794      0.000      -0.259      -0.143\n",
       "Genres_3             0.0436      0.014      3.063      0.002       0.016       0.071\n",
       "Genres_5             0.0539      0.014      3.788      0.000       0.026       0.082\n",
       "Genres_7             0.1142      0.015      7.643      0.000       0.085       0.144\n",
       "Genres_11           -0.2246      0.048     -4.709      0.000      -0.318      -0.131\n",
       "Genres_12            0.0861      0.015      5.615      0.000       0.056       0.116\n",
       "Genres_13            0.0418      0.015      2.810      0.005       0.013       0.071\n",
       "Genres_14            0.0543      0.017      3.197      0.001       0.021       0.088\n",
       "Genres_16            0.0736      0.017      4.331      0.000       0.040       0.107\n",
       "Genres_18           -0.0818      0.020     -4.131      0.000      -0.121      -0.043\n",
       "Genres_19            0.1196      0.019      6.144      0.000       0.081       0.158\n",
       "Genres_20           -0.1973      0.052     -3.785      0.000      -0.299      -0.095\n",
       "Genres_21           -0.1454      0.040     -3.670      0.000      -0.223      -0.068\n",
       "Genres_22           -0.1988      0.041     -4.884      0.000      -0.279      -0.119\n",
       "Genres_28           -0.1301      0.053     -2.442      0.015      -0.234      -0.026\n",
       "Genres_29           -0.3189      0.065     -4.903      0.000      -0.446      -0.191\n",
       "Genres_33            0.0700      0.029      2.375      0.018       0.012       0.128\n",
       "Genres_34           -0.3200      0.071     -4.509      0.000      -0.459      -0.181\n",
       "Genres_35            0.1641      0.038      4.329      0.000       0.090       0.238\n",
       "Genres_38            0.0879      0.039      2.241      0.025       0.011       0.165\n",
       "Genres_40           -0.4067      0.085     -4.797      0.000      -0.573      -0.240\n",
       "Genres_41            0.2378      0.080      2.961      0.003       0.080       0.395\n",
       "Genres_42           -0.1880      0.088     -2.140      0.032      -0.360      -0.016\n",
       "Genres_44           -0.2230      0.092     -2.415      0.016      -0.404      -0.042\n",
       "Genres_45           -0.4427      0.103     -4.300      0.000      -0.645      -0.241\n",
       "Genres_46           -0.4170      0.091     -4.590      0.000      -0.595      -0.239\n",
       "Genres_51           -0.2712      0.117     -2.323      0.020      -0.500      -0.042\n",
       "==============================================================================\n",
       "Omnibus:                     3571.920   Durbin-Watson:                   1.816\n",
       "Prob(Omnibus):                  0.000   Jarque-Bera (JB):            18166.576\n",
       "Skew:                          -1.780   Prob(JB):                         0.00\n",
       "Kurtosis:                       8.820   Cond. No.                     1.01e+16\n",
       "==============================================================================\n",
       "\n",
       "Warnings:\n",
       "[1] Standard Errors assume that the covariance matrix of the errors is correctly specified.\n",
       "[2] The smallest eigenvalue is 9.24e-16. This might indicate that there are\n",
       "strong multicollinearity problems or that the design matrix is singular.\n",
       "\"\"\""
      ]
     },
     "execution_count": 30,
     "metadata": {},
     "output_type": "execute_result"
    }
   ],
   "source": [
    "PlayStore_X = list(Google_data.columns)\n",
    "Google_data = Google_data.dropna()\n",
    "PlayStore_X.remove(\"App\")\n",
    "PlayStore_X.remove(\"Rating\")\n",
    "PlayStore_Y = 'Rating'\n",
    "\n",
    "resultsGoogle = variablesLessAlpha(Google_data, PlayStore_X, PlayStore_Y)\n",
    "resultsGoogle.summary()"
   ]
  },
  {
   "cell_type": "markdown",
   "metadata": {
    "collapsed": true
   },
   "source": [
    "o MODELO DE ÁRVORES DE REGRESSÃO (Decision Tree Regression)"
   ]
  },
  {
   "cell_type": "code",
   "execution_count": 32,
   "metadata": {},
   "outputs": [
    {
     "data": {
      "text/plain": [
       "DecisionTreeRegressor(criterion='mse', max_depth=None, max_features=None,\n",
       "           max_leaf_nodes=None, min_impurity_decrease=0.0,\n",
       "           min_impurity_split=None, min_samples_leaf=1,\n",
       "           min_samples_split=2, min_weight_fraction_leaf=0.0,\n",
       "           presort=False, random_state=None, splitter='best')"
      ]
     },
     "execution_count": 32,
     "metadata": {},
     "output_type": "execute_result"
    }
   ],
   "source": [
    "tree = DecisionTreeRegressor()\n",
    "tree.fit(X_train, y_train)"
   ]
  },
  {
   "cell_type": "code",
   "execution_count": null,
   "metadata": {},
   "outputs": [],
   "source": [
    "yPredict = tree.predict(X_test)"
   ]
  },
  {
   "cell_type": "markdown",
   "metadata": {
    "collapsed": true
   },
   "source": [
    "___\n",
    "## D. PROCESSO E ESTATÍSTICAS DE VALIDAÇÃO"
   ]
  },
  {
   "cell_type": "markdown",
   "metadata": {},
   "source": [
    "[Esse item depende dos resultados das modelagens anteriores! Organize-os aqui de forma clara!]"
   ]
  },
  {
   "cell_type": "code",
   "execution_count": null,
   "metadata": {},
   "outputs": [],
   "source": []
  },
  {
   "cell_type": "code",
   "execution_count": null,
   "metadata": {},
   "outputs": [],
   "source": []
  },
  {
   "cell_type": "code",
   "execution_count": null,
   "metadata": {},
   "outputs": [],
   "source": []
  },
  {
   "cell_type": "markdown",
   "metadata": {},
   "source": [
    "___\n",
    "## E. CONCLUSÃO"
   ]
  },
  {
   "cell_type": "code",
   "execution_count": null,
   "metadata": {},
   "outputs": [],
   "source": []
  },
  {
   "cell_type": "code",
   "execution_count": null,
   "metadata": {},
   "outputs": [],
   "source": []
  },
  {
   "cell_type": "code",
   "execution_count": null,
   "metadata": {},
   "outputs": [],
   "source": []
  },
  {
   "cell_type": "code",
   "execution_count": null,
   "metadata": {},
   "outputs": [],
   "source": []
  },
  {
   "cell_type": "markdown",
   "metadata": {},
   "source": [
    "___\n",
    "## F. REFERÊNCIAS BIBLIOGRÁFICAS"
   ]
  },
  {
   "cell_type": "code",
   "execution_count": null,
   "metadata": {},
   "outputs": [],
   "source": []
  },
  {
   "cell_type": "code",
   "execution_count": null,
   "metadata": {},
   "outputs": [],
   "source": []
  },
  {
   "cell_type": "code",
   "execution_count": null,
   "metadata": {},
   "outputs": [],
   "source": []
  },
  {
   "cell_type": "code",
   "execution_count": null,
   "metadata": {},
   "outputs": [],
   "source": []
  }
 ],
 "metadata": {
  "anaconda-cloud": {},
  "kernelspec": {
   "display_name": "Python 3",
   "language": "python",
   "name": "python3"
  },
  "language_info": {
   "codemirror_mode": {
    "name": "ipython",
    "version": 3
   },
   "file_extension": ".py",
   "mimetype": "text/x-python",
   "name": "python",
   "nbconvert_exporter": "python",
   "pygments_lexer": "ipython3",
   "version": "3.7.1"
  }
 },
 "nbformat": 4,
 "nbformat_minor": 1
}
