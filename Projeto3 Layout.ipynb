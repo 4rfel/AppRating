{
 "cells": [
  {
   "cell_type": "markdown",
   "metadata": {},
   "source": [
    "___\n",
    "## Ciência dos Dados - PROJETO 3 - INSPER"
   ]
  },
  {
   "cell_type": "markdown",
   "metadata": {},
   "source": [
    "___\n",
    "#### Arthur Alegro de Oliveira\n",
    "\n",
    "#### Rafael dos Santos\n",
    "\n",
    "#### José Antônio Bechara\n",
    "\n",
    "___"
   ]
  },
  {
   "cell_type": "markdown",
   "metadata": {},
   "source": [
    "# Classificação de Apps"
   ]
  },
  {
   "cell_type": "markdown",
   "metadata": {},
   "source": [
    "___\n",
    "\n",
    "## A. INTRODUÇÃO"
   ]
  },
  {
   "cell_type": "markdown",
   "metadata": {},
   "source": [
    "Objetivo: Prever a nota de um app da PlayStore ou da AppStore"
   ]
  },
  {
   "cell_type": "markdown",
   "metadata": {},
   "source": [
    "___\n",
    "## B. MINERANDO DADOS e CARACTERÍSTICAS DO DATASET"
   ]
  },
  {
   "cell_type": "markdown",
   "metadata": {},
   "source": [
    "[Detalhe aqui as características da base de dados além da análise descritiva.]"
   ]
  },
  {
   "cell_type": "code",
   "execution_count": 1,
   "metadata": {},
   "outputs": [],
   "source": [
    "from sklearn.model_selection import train_test_split\n",
    "from sklearn.preprocessing import StandardScaler  \n",
    "from sklearn.metrics import mean_squared_error, r2_score\n",
    "from sklearn.neighbors import KNeighborsRegressor\n",
    "from sklearn.linear_model import LinearRegression\n",
    "from sklearn.tree import DecisionTreeRegressor\n",
    "from sklearn.metrics import r2_score\n",
    "import matplotlib.pyplot as plt\n",
    "import statsmodels.api as sm\n",
    "import seaborn as sns\n",
    "import pandas as pd\n",
    "import numpy as np\n",
    "import json\n",
    "import os"
   ]
  },
  {
   "cell_type": "markdown",
   "metadata": {},
   "source": [
    "### BASE DE DADOS"
   ]
  },
  {
   "cell_type": "markdown",
   "metadata": {},
   "source": [
    "Carregando *database*:"
   ]
  },
  {
   "cell_type": "code",
   "execution_count": 2,
   "metadata": {},
   "outputs": [],
   "source": [
    "# Reading Google Play Store data:\n",
    "Google_data = pd.read_csv('googleplaystore.csv')"
   ]
  },
  {
   "cell_type": "code",
   "execution_count": 3,
   "metadata": {
    "scrolled": false
   },
   "outputs": [
    {
     "data": {
      "text/html": [
       "<div>\n",
       "<style scoped>\n",
       "    .dataframe tbody tr th:only-of-type {\n",
       "        vertical-align: middle;\n",
       "    }\n",
       "\n",
       "    .dataframe tbody tr th {\n",
       "        vertical-align: top;\n",
       "    }\n",
       "\n",
       "    .dataframe thead th {\n",
       "        text-align: right;\n",
       "    }\n",
       "</style>\n",
       "<table border=\"1\" class=\"dataframe\">\n",
       "  <thead>\n",
       "    <tr style=\"text-align: right;\">\n",
       "      <th></th>\n",
       "      <th>App</th>\n",
       "      <th>Category</th>\n",
       "      <th>Rating</th>\n",
       "      <th>Reviews</th>\n",
       "      <th>Size</th>\n",
       "      <th>Installs</th>\n",
       "      <th>Type</th>\n",
       "      <th>Price</th>\n",
       "      <th>Content Rating</th>\n",
       "      <th>Genres</th>\n",
       "      <th>Last Updated</th>\n",
       "      <th>Current Ver</th>\n",
       "      <th>Android Ver</th>\n",
       "    </tr>\n",
       "  </thead>\n",
       "  <tbody>\n",
       "    <tr>\n",
       "      <th>0</th>\n",
       "      <td>Photo Editor &amp; Candy Camera &amp; Grid &amp; ScrapBook</td>\n",
       "      <td>ART_AND_DESIGN</td>\n",
       "      <td>4.1</td>\n",
       "      <td>159</td>\n",
       "      <td>19M</td>\n",
       "      <td>10,000+</td>\n",
       "      <td>Free</td>\n",
       "      <td>0</td>\n",
       "      <td>Everyone</td>\n",
       "      <td>Art &amp; Design</td>\n",
       "      <td>January 7, 2018</td>\n",
       "      <td>1.0.0</td>\n",
       "      <td>4.0.3 and up</td>\n",
       "    </tr>\n",
       "  </tbody>\n",
       "</table>\n",
       "</div>"
      ],
      "text/plain": [
       "                                              App        Category  Rating  \\\n",
       "0  Photo Editor & Candy Camera & Grid & ScrapBook  ART_AND_DESIGN     4.1   \n",
       "\n",
       "  Reviews Size Installs  Type Price Content Rating        Genres  \\\n",
       "0     159  19M  10,000+  Free     0       Everyone  Art & Design   \n",
       "\n",
       "      Last Updated Current Ver   Android Ver  \n",
       "0  January 7, 2018       1.0.0  4.0.3 and up  "
      ]
     },
     "execution_count": 3,
     "metadata": {},
     "output_type": "execute_result"
    }
   ],
   "source": [
    "Google_data.head(1)"
   ]
  },
  {
   "cell_type": "markdown",
   "metadata": {},
   "source": [
    "Ao analisar o *database* notamos que algumas colunas possuem dados numéricos em sua essência, mas por possuir outros caracteres são interpretados como texto. A seguir, serão destrinchados os problemas em cada umas dessas colunas. As funções que serão usadas já estão definidas abaixo:"
   ]
  },
  {
   "cell_type": "code",
   "execution_count": 4,
   "metadata": {},
   "outputs": [],
   "source": [
    "def remove_last_char(word):\n",
    "    new_word = word[:-1]\n",
    "    return new_word\n",
    "\n",
    "def remove_comma(word):\n",
    "    new_word = \"\".join(word.split(','))\n",
    "    return new_word\n",
    "\n",
    "def remove_first_char(word):\n",
    "    if '$' in word:\n",
    "        new_word = word[1:]\n",
    "        return new_word\n",
    "    else:\n",
    "        return word"
   ]
  },
  {
   "cell_type": "markdown",
   "metadata": {},
   "source": [
    "Coluna `Size`:  \n",
    "* possui o último caractere não numérico"
   ]
  },
  {
   "cell_type": "code",
   "execution_count": 5,
   "metadata": {},
   "outputs": [],
   "source": [
    "Google_data['Size'] = Google_data['Size'].apply(remove_last_char)"
   ]
  },
  {
   "cell_type": "markdown",
   "metadata": {},
   "source": [
    " Coluna `Installs`:  \n",
    " * possui o último caractere não numérico\n",
    " * possui vírgulas como separador a cada $10^3$\n",
    " * possui dois tipos valores não itendificados (`Fre` e ` ` ) que serão descartados"
   ]
  },
  {
   "cell_type": "code",
   "execution_count": 6,
   "metadata": {},
   "outputs": [],
   "source": [
    "Google_data['Installs'] = Google_data['Installs'].apply(remove_last_char)\n",
    "Google_data['Installs'] = Google_data['Installs'].apply(remove_comma)\n",
    "Google_data['Installs'] = Google_data['Installs'][Google_data['Installs'] != 'Fre']\n",
    "Google_data['Installs'] = Google_data['Installs'][Google_data['Installs'] != '']"
   ]
  },
  {
   "cell_type": "markdown",
   "metadata": {},
   "source": [
    " Coluna `Price`: \n",
    "* possui o primeiro caractere $\\$$ quando não é valor nulo (ou seja, quando o aplicativo é gratuito)\n",
    "* possui um tipo de valor não identificado (`Everyone`) que será descartado"
   ]
  },
  {
   "cell_type": "code",
   "execution_count": 7,
   "metadata": {},
   "outputs": [],
   "source": [
    "Google_data['Price'] = Google_data['Price'].apply(remove_first_char)\n",
    "Google_data['Price'] = Google_data['Price'][Google_data['Price'] != 'Everyone']"
   ]
  },
  {
   "cell_type": "markdown",
   "metadata": {},
   "source": [
    "Coluna `Reviews`:\n",
    "* Possui um valor $3.0M$ (equivalente a $3000000$)"
   ]
  },
  {
   "cell_type": "code",
   "execution_count": 8,
   "metadata": {},
   "outputs": [],
   "source": [
    "Google_data['Reviews'] = Google_data['Reviews'].mask(Google_data['Reviews'] == '3.0M', 3000000)"
   ]
  },
  {
   "cell_type": "markdown",
   "metadata": {},
   "source": [
    "Com todas as filtragens e correções feitas, é possível modificar o tipo de dado para cada coluna de acordo com a necessidade. Logo, as colunas com valores qualitativos serão interpretadas como `category`, enquanto as colunas com valores quantitativos serão interpretadas como `float` ou `int`(dependendo se os valores originais possuem ou não casas decimais)."
   ]
  },
  {
   "cell_type": "code",
   "execution_count": 9,
   "metadata": {},
   "outputs": [],
   "source": [
    "Google_data['Category'] = Google_data['Category'].astype('category')\n",
    "Google_data['Rating'] = Google_data['Rating'].astype('float64')\n",
    "Google_data['Reviews'] = Google_data['Reviews'].astype('float64')\n",
    "Google_data['Installs'] = Google_data['Installs'].astype('float64')\n",
    "Google_data['Price'] = Google_data['Price'].astype('float64')\n",
    "Google_data['Content Rating'] = Google_data['Content Rating'].astype('category')\n",
    "Google_data['Genres'] = Google_data['Genres'].astype('category')"
   ]
  },
  {
   "cell_type": "markdown",
   "metadata": {},
   "source": [
    "Ainda que os dados sejam categóricos, alguns classificadores somente funcionam se todos os dados forem numéricos. O código abaixo resolve esse código, selecionando todos os possíveis valores dos dados categóricos e substituindo-os por valores numéricos. "
   ]
  },
  {
   "cell_type": "code",
   "execution_count": 10,
   "metadata": {},
   "outputs": [],
   "source": [
    "for column in ['Category', 'Content Rating', 'Genres']:\n",
    "    \n",
    "    values = list(Google_data[column].value_counts().keys())\n",
    "\n",
    "    for value, number in zip(values, range(len(values))):\n",
    "        Google_data[column] = Google_data[column].mask(Google_data[column] == value, number)"
   ]
  },
  {
   "cell_type": "code",
   "execution_count": 11,
   "metadata": {},
   "outputs": [],
   "source": [
    "usefull_columns = [\"App\", \"Category\", \"Rating\", \"Reviews\", \"Installs\", \"Price\", \"Content Rating\", \"Genres\"]\n",
    "Google_data = Google_data[usefull_columns]"
   ]
  },
  {
   "cell_type": "markdown",
   "metadata": {},
   "source": [
    "App --> str, ex:'Photo Editor & Candy Camera & Grid & ScrapBook' <br>\n",
    "Category --> str, ex: 'ART_AND_DESIGN' <br>\n",
    "Rating --> float, ex: 4.0999999 <br>\n",
    "Reviews --> str, ex: 159 <br>\n",
    "Installs --> str, ex: 10,000+ <br>\n",
    "Price --> str, ex: '0' <br>\n",
    "Content Rating --> str, ex: Everyone <br>\n",
    "Genres --> str, ex: 'Art & Design' <br>"
   ]
  },
  {
   "cell_type": "markdown",
   "metadata": {},
   "source": [
    "### ANÁLISE DESCRITIVA"
   ]
  },
  {
   "cell_type": "markdown",
   "metadata": {},
   "source": [
    "Para melhor compreensão dos dados que serão utilizados, uma análise mais detalhada de cada uma das variáveis se faz necessária.\n",
    "\n",
    "Inicialmente os dados serão abordados da seguinte forma:\n",
    "* Dados quantitativos serão exibidos em forma de histogramas\n",
    "* Dados qualitativos serão exibidor em forma de gráfico de barras"
   ]
  },
  {
   "cell_type": "code",
   "execution_count": 12,
   "metadata": {
    "scrolled": true
   },
   "outputs": [
    {
     "data": {
      "image/png": "[encoded data removed]",
      "text/plain": [
       "<Figure size 1800x720 with 1 Axes>"
      ]
     },
     "metadata": {
      "needs_background": "light"
     },
     "output_type": "display_data"
    },
    {
     "name": "stderr",
     "output_type": "stream",
     "text": [
      "C:\\ProgramData\\Anaconda3\\lib\\site-packages\\numpy\\lib\\histograms.py:754: RuntimeWarning: invalid value encountered in greater_equal\n",
      "  keep = (tmp_a >= first_edge)\n",
      "C:\\ProgramData\\Anaconda3\\lib\\site-packages\\numpy\\lib\\histograms.py:755: RuntimeWarning: invalid value encountered in less_equal\n",
      "  keep &= (tmp_a <= last_edge)\n"
     ]
    },
    {
     "data": {
      "image/png": "[encoded data removed]",
      "text/plain": [
       "<Figure size 1800x720 with 1 Axes>"
      ]
     },
     "metadata": {
      "needs_background": "light"
     },
     "output_type": "display_data"
    },
    {
     "data": {
      "image/png": "[encoded data removed]",
      "text/plain": [
       "<Figure size 1800x720 with 1 Axes>"
      ]
     },
     "metadata": {
      "needs_background": "light"
     },
     "output_type": "display_data"
    },
    {
     "data": {
      "image/png": "[encoded data removed]",
      "text/plain": [
       "<Figure size 1800x720 with 1 Axes>"
      ]
     },
     "metadata": {
      "needs_background": "light"
     },
     "output_type": "display_data"
    },
    {
     "data": {
      "image/png": "[encoded data removed]",
      "text/plain": [
       "<Figure size 1800x720 with 1 Axes>"
      ]
     },
     "metadata": {
      "needs_background": "light"
     },
     "output_type": "display_data"
    },
    {
     "data": {
      "image/png": "[encoded data removed]",
      "text/plain": [
       "<Figure size 1800x720 with 1 Axes>"
      ]
     },
     "metadata": {
      "needs_background": "light"
     },
     "output_type": "display_data"
    },
    {
     "data": {
      "image/png": "[encoded data removed]",
      "text/plain": [
       "<Figure size 1800x720 with 1 Axes>"
      ]
     },
     "metadata": {
      "needs_background": "light"
     },
     "output_type": "display_data"
    }
   ],
   "source": [
    "plt.figure(figsize=(25,10))\n",
    "plt.bar(Google_data['Category'].value_counts(normalize=True).keys(), Google_data['Category'].value_counts(normalize=True).values)\n",
    "plt.xticks(rotation='vertical')\n",
    "plt.title('\"Category\" Column')\n",
    "plt.grid()\n",
    "plt.show()\n",
    "\n",
    "plt.figure(figsize=(25,10))\n",
    "plt.hist(Google_data['Rating'], bins=50, density='normed')\n",
    "plt.title('\"Rating\" Column')\n",
    "plt.grid()\n",
    "plt.show()\n",
    "\n",
    "plt.figure(figsize=(25,10))\n",
    "plt.hist(Google_data['Reviews'], bins=50, density='normed')\n",
    "plt.title('\"Reviews\" Column')\n",
    "plt.grid()\n",
    "plt.show()\n",
    "\n",
    "plt.figure(figsize=(25,10))\n",
    "plt.hist(Google_data['Installs'], bins=50, density='normed')\n",
    "plt.title('\"Installs\" Column')\n",
    "plt.grid()\n",
    "plt.show()\n",
    "\n",
    "plt.figure(figsize=(25,10))\n",
    "plt.hist(Google_data['Price'], bins=50, density='normed')\n",
    "plt.title('\"Price\" Column')\n",
    "plt.grid()\n",
    "plt.show()\n",
    "\n",
    "plt.figure(figsize=(25,10))\n",
    "plt.bar(Google_data['Content Rating'].value_counts(normalize=True).keys(), Google_data['Content Rating'].value_counts(normalize=True).values)\n",
    "plt.xticks(rotation='vertical')\n",
    "plt.title('\"Content Rating\" Column')\n",
    "plt.grid()\n",
    "plt.show()\n",
    "\n",
    "plt.figure(figsize=(25,10))\n",
    "plt.bar(Google_data['Genres'].value_counts(normalize=True).keys(), Google_data['Genres'].value_counts(normalize=True).values)\n",
    "plt.xticks(rotation='vertical')\n",
    "plt.title('\"Genres\" Column')\n",
    "plt.grid()\n",
    "plt.show()"
   ]
  },
  {
   "cell_type": "markdown",
   "metadata": {},
   "source": [
    "Também plotamos um \"gráfico de temperatura\" (*heatmap*) mostrando correlação entre as variáveis. A legenda do lado direito mostra que quando maior a correlação entre as variáveis mais claro a intersecção entre as duas variáveis de referência."
   ]
  },
  {
   "cell_type": "code",
   "execution_count": 13,
   "metadata": {
    "scrolled": true
   },
   "outputs": [
    {
     "data": {
      "text/plain": [
       "<matplotlib.axes._subplots.AxesSubplot at 0x2bb7b4bd940>"
      ]
     },
     "execution_count": 13,
     "metadata": {},
     "output_type": "execute_result"
    },
    {
     "data": {
      "image/png": "[encoded data removed]",
      "text/plain": [
       "<Figure size 432x288 with 2 Axes>"
      ]
     },
     "metadata": {
      "needs_background": "light"
     },
     "output_type": "display_data"
    }
   ],
   "source": [
    "sns.heatmap(Google_data.corr(), annot = True, fmt='.1f')"
   ]
  },
  {
   "cell_type": "markdown",
   "metadata": {},
   "source": [
    "Abaixo há um gráfico de correlação, cruzando cada uma das variáveis de interesse. Nas diagonais são mostrados histogramas de densidade de variáveis, uma vez que a correlação entre a variável com ela mesma sempre retornará 100%."
   ]
  },
  {
   "cell_type": "code",
   "execution_count": 14,
   "metadata": {
    "scrolled": false
   },
   "outputs": [
    {
     "data": {
      "image/png": "[encoded data removed]",
      "text/plain": [
       "<Figure size 1080x1080 with 16 Axes>"
      ]
     },
     "metadata": {
      "needs_background": "light"
     },
     "output_type": "display_data"
    }
   ],
   "source": [
    "pd.plotting.scatter_matrix(Google_data, figsize=(15,15), diagonal='kde');\n",
    "plt.show()"
   ]
  },
  {
   "cell_type": "markdown",
   "metadata": {},
   "source": [
    "___\n",
    "## C. MODELOS DE PREDIÇÃO"
   ]
  },
  {
   "cell_type": "markdown",
   "metadata": {},
   "source": [
    "A função `dummify` serve para separar colunas de variáveis qualitativas em múltiplas colunas.\n",
    "\n",
    "Exemplo, separar a coluna \"sexo\" em 2 colunas: \"sexo_masculino\" e \"sexo_feminino\", sendo que cada linha fica com um `1` quando ela era verdade e um `0` quando não."
   ]
  },
  {
   "cell_type": "code",
   "execution_count": 15,
   "metadata": {},
   "outputs": [],
   "source": [
    "def dummify(data, column_name):\n",
    "    df = data.copy()\n",
    "    df2 = pd.concat([df.drop(column_name, axis=1), pd.get_dummies(data[column_name], prefix=column_name)], axis=1)\n",
    "    return df2"
   ]
  },
  {
   "cell_type": "code",
   "execution_count": 16,
   "metadata": {},
   "outputs": [],
   "source": [
    "Google_data = dummify(Google_data, \"Category\")\n",
    "Google_data = dummify(Google_data, \"Content Rating\")\n",
    "Google_data = dummify(Google_data, \"Genres\")"
   ]
  },
  {
   "cell_type": "markdown",
   "metadata": {},
   "source": [
    "As funções abaixo serão utilizadas para calcular erros dos diferentes modelos e posteriormente compor a tabela no item **D (Processo e Estatísticas de Validação)**. A relação das funções é a seguinte:\n",
    "\n",
    "* A função `R2` calcula o erro $R^2$ (r squared error)\n",
    "* A função `RMS` calcula o erro $RMS$ (mean squared error)"
   ]
  },
  {
   "cell_type": "code",
   "execution_count": 17,
   "metadata": {},
   "outputs": [],
   "source": [
    "def R2(test, pred):\n",
    "    R2 = mean_squared_error(y_test, y_pred)\n",
    "    return R2\n",
    "\n",
    "def RMS(test, pred):\n",
    "    RMS = mean_squared_error(test, pred)\n",
    "    return RMS"
   ]
  },
  {
   "cell_type": "markdown",
   "metadata": {},
   "source": [
    "Para utilizar os diferentes modelos de predição, primeiro é necessário separar o *database* em base de testes e base de treinamento.\n",
    "\n",
    "A base de treinamento será 70% do *database* e a base de testes os 30% restantes (aproximadamente).\n",
    "\n",
    "Para evitar alguns conflitos gerados durante o desenvolvimento do projeto, a base de dados será dividida separadamente para cada um dos modelos. Portanto as células estão organizadas da seguinte forma:\n",
    "* A primeira célula é a divisão do *database*\n",
    "* A segunda célula é a implementação do modelo em si que consiste em:\n",
    "    * Função que implementa o modelo\n",
    "    * Predição considerando TREINAMENTO e TESTE\n",
    "    * Calculo dos erros $R^2$ e $RMS$ para cada uma das considerações anteriores"
   ]
  },
  {
   "cell_type": "markdown",
   "metadata": {
    "collapsed": true
   },
   "source": [
    "### MODELO DE PREDIÇÃO PELA MÉDIA (Sem uso de variável explicativa):"
   ]
  },
  {
   "cell_type": "code",
   "execution_count": 18,
   "metadata": {},
   "outputs": [],
   "source": [
    "PlayStore_X = list(Google_data.columns)\n",
    "Google_data = Google_data.dropna()\n",
    "PlayStore_X.remove(\"App\")\n",
    "PlayStore_Y = 'Rating'\n",
    "\n",
    "Google_data_X = Google_data[PlayStore_X]\n",
    "Google_data_Y = Google_data[PlayStore_Y]\n",
    "\n",
    "X_train, X_test, y_train, y_test = train_test_split(Google_data_X, Google_data_Y, test_size=.3)"
   ]
  },
  {
   "cell_type": "code",
   "execution_count": 19,
   "metadata": {},
   "outputs": [],
   "source": [
    "def mean_predict(df):\n",
    "    mean = np.mean(df)\n",
    "    y_pred = []\n",
    "    for val in df:\n",
    "        y_pred.append(mean)\n",
    "    return y_pred\n",
    "\n",
    "mean_pred_train = mean_predict(y_train)\n",
    "mean_pred_test = mean_predict(y_test)\n",
    "\n",
    "mean_train_R2 = r2_score(y_train, mean_pred_train)\n",
    "mean_train_RMS = mean_squared_error(y_train, mean_pred_train)\n",
    "mean_test_R2 = r2_score(y_test, mean_pred_test)\n",
    "mean_test_RMS = mean_squared_error(y_test, mean_pred_test)"
   ]
  },
  {
   "cell_type": "markdown",
   "metadata": {
    "collapsed": true
   },
   "source": [
    "### MODELO DOS K VIZINHOS MAIS PRÓXIMOS (K-Nearest Neighbors Regression):"
   ]
  },
  {
   "cell_type": "code",
   "execution_count": 20,
   "metadata": {},
   "outputs": [],
   "source": [
    "PlayStore_X = list(Google_data.columns)\n",
    "Google_data = Google_data.dropna()\n",
    "PlayStore_X.remove(\"App\")\n",
    "PlayStore_X.remove(\"Rating\")\n",
    "PlayStore_Y = 'Rating'\n",
    "\n",
    "Google_data_X = Google_data[PlayStore_X]\n",
    "Google_data_Y = Google_data[PlayStore_Y]\n",
    "\n",
    "X_train, X_test, y_train, y_test = train_test_split(Google_data_X,Google_data_Y,test_size=.3)"
   ]
  },
  {
   "cell_type": "code",
   "execution_count": 21,
   "metadata": {
    "scrolled": false
   },
   "outputs": [],
   "source": [
    "def knn_model(X_fit, y_fit, X_pred):\n",
    "    knn_model = KNeighborsRegressor(11)\n",
    "    knn_model.fit(X_fit, y_fit)\n",
    "    y_pred = knn_model.predict(X_pred)\n",
    "    return y_pred\n",
    "\n",
    "KNN_pred_train = knn_model(X_train, y_train, X_train)\n",
    "KNN_pred_test = knn_model(X_test, y_test, X_test)\n",
    "\n",
    "KNN_train_R2 = r2_score(y_train, KNN_pred_train)\n",
    "KNN_train_RMS = mean_squared_error(y_train, KNN_pred_train)\n",
    "KNN_test_R2 = r2_score(y_test, KNN_pred_test)\n",
    "KNN_test_RMS = mean_squared_error(y_test, KNN_pred_test)"
   ]
  },
  {
   "cell_type": "markdown",
   "metadata": {
    "collapsed": true
   },
   "source": [
    "### MODELO DE REGRESSÃO LINEAR (Multiple Linear Regression):"
   ]
  },
  {
   "cell_type": "code",
   "execution_count": 22,
   "metadata": {},
   "outputs": [],
   "source": [
    "PlayStore_X = list(Google_data.columns)\n",
    "Google_data = Google_data.dropna()\n",
    "PlayStore_X.remove(\"App\")\n",
    "PlayStore_X.remove(\"Rating\")\n",
    "PlayStore_Y = 'Rating'\n",
    "\n",
    "Google_data_X = Google_data[PlayStore_X]\n",
    "Google_data_Y = Google_data[PlayStore_Y]\n",
    "\n",
    "X_train, X_test, y_train, y_test = train_test_split(Google_data_X,Google_data_Y,test_size=.3)"
   ]
  },
  {
   "cell_type": "code",
   "execution_count": 23,
   "metadata": {},
   "outputs": [],
   "source": [
    "def LR_model(X_fit, y_fit, X_pred):\n",
    "    lr_model = LinearRegression()\n",
    "    lr_model.fit(X_fit, y_fit)\n",
    "    y_pred = lr_model.predict(X_pred)\n",
    "    return y_pred\n",
    "\n",
    "LR_pred_train = LR_model(X_train, y_train, X_train)\n",
    "LR_pred_test = LR_model(X_test, y_test, X_test)\n",
    "\n",
    "LR_train_R2 = r2_score(y_train, LR_pred_train)\n",
    "LR_train_RMS = mean_squared_error(y_train, LR_pred_train)\n",
    "LR_test_R2 = r2_score(y_test, LR_pred_test)\n",
    "LR_test_RMS = mean_squared_error(y_test, LR_pred_test)"
   ]
  },
  {
   "cell_type": "markdown",
   "metadata": {
    "collapsed": true
   },
   "source": [
    "### MODELO DE ÁRVORES DE REGRESSÃO (Decision Tree Regression):"
   ]
  },
  {
   "cell_type": "code",
   "execution_count": 24,
   "metadata": {},
   "outputs": [],
   "source": [
    "PlayStore_X = list(Google_data.columns)\n",
    "Google_data = Google_data.dropna()\n",
    "PlayStore_X.remove(\"App\")\n",
    "PlayStore_X.remove(\"Rating\")\n",
    "PlayStore_Y = 'Rating'\n",
    "\n",
    "Google_data_X = Google_data[PlayStore_X]\n",
    "Google_data_Y = Google_data[PlayStore_Y]\n",
    "\n",
    "X_train, X_test, y_train, y_test = train_test_split(Google_data_X,Google_data_Y,test_size=.3)"
   ]
  },
  {
   "cell_type": "code",
   "execution_count": 25,
   "metadata": {},
   "outputs": [],
   "source": [
    "def tree_reg_model(X_fit, y_fit, X_pred):\n",
    "    tree = DecisionTreeRegressor()\n",
    "    tree.fit(X_fit, y_fit)\n",
    "    y_pred = tree.predict(X_pred)\n",
    "    return y_pred\n",
    "\n",
    "tree_pred_train = knn_model(X_train, y_train, X_train)\n",
    "tree_pred_test = knn_model(X_test, y_test, X_test)\n",
    "\n",
    "tree_train_R2 = r2_score(y_train, tree_pred_train)\n",
    "tree_train_RMS = mean_squared_error(y_train, tree_pred_train)\n",
    "tree_test_R2 = r2_score(y_test, tree_pred_test)\n",
    "tree_test_RMS = mean_squared_error(y_test, tree_pred_test)"
   ]
  },
  {
   "cell_type": "markdown",
   "metadata": {
    "collapsed": true
   },
   "source": [
    "___\n",
    "## D. PROCESSO E ESTATÍSTICAS DE VALIDAÇÃO"
   ]
  },
  {
   "cell_type": "markdown",
   "metadata": {},
   "source": [
    "Após as diferentes modelagens e o cálculo dos erros $R^2$ e $RMS$ será criado duas tabelas comparando os erros obtidos em cada um dos modelos usando dados diferentes (TESTE e TREINAMENTO)."
   ]
  },
  {
   "cell_type": "code",
   "execution_count": 26,
   "metadata": {},
   "outputs": [],
   "source": [
    "index = ['Mean', 'K-NN', 'Linear Regression', 'Tree Regresion']\n",
    "columns_R2 = ['$R^2$ considerando dados TREINAMENTO', '$R^2$ considerando dados TESTE']\n",
    "columns_RMS = ['$RMS$ considerando dados TREINAMENTO', '$RMS$ considerando dados TESTE']\n",
    "\n",
    "data_R2 = [[mean_train_R2, mean_test_R2],\n",
    "           [KNN_train_R2, KNN_test_R2],\n",
    "           [LR_train_R2, LR_test_R2],\n",
    "           [tree_train_R2, tree_train_R2]]\n",
    "\n",
    "data_RMS = [[mean_train_RMS, mean_test_RMS],\n",
    "           [KNN_train_RMS, KNN_test_RMS],\n",
    "           [LR_train_RMS, LR_train_RMS],\n",
    "           [tree_train_RMS, tree_train_RMS]]\n",
    "\n",
    "R2_table = pd.DataFrame(data_R2, index=index, columns=columns_R2)\n",
    "RMS_table = pd.DataFrame(data_RMS, index=index, columns=columns_RMS)"
   ]
  },
  {
   "cell_type": "markdown",
   "metadata": {},
   "source": [
    "A tabela abaixo relaciona o erro $R^2$ considerando dados TREINAMENTO e TESTE com os diferentes modelos estatísticos implementados."
   ]
  },
  {
   "cell_type": "code",
   "execution_count": 30,
   "metadata": {},
   "outputs": [
    {
     "data": {
      "text/html": [
       "<div>\n",
       "<style scoped>\n",
       "    .dataframe tbody tr th:only-of-type {\n",
       "        vertical-align: middle;\n",
       "    }\n",
       "\n",
       "    .dataframe tbody tr th {\n",
       "        vertical-align: top;\n",
       "    }\n",
       "\n",
       "    .dataframe thead th {\n",
       "        text-align: right;\n",
       "    }\n",
       "</style>\n",
       "<table border=\"1\" class=\"dataframe\">\n",
       "  <thead>\n",
       "    <tr style=\"text-align: right;\">\n",
       "      <th></th>\n",
       "      <th>$RMS$ considerando dados TREINAMENTO</th>\n",
       "      <th>$RMS$ considerando dados TESTE</th>\n",
       "    </tr>\n",
       "  </thead>\n",
       "  <tbody>\n",
       "    <tr>\n",
       "      <th>Mean</th>\n",
       "      <td>0.277442</td>\n",
       "      <td>0.237355</td>\n",
       "    </tr>\n",
       "    <tr>\n",
       "      <th>K-NN</th>\n",
       "      <td>0.198899</td>\n",
       "      <td>0.204205</td>\n",
       "    </tr>\n",
       "    <tr>\n",
       "      <th>Linear Regression</th>\n",
       "      <td>0.246119</td>\n",
       "      <td>0.246119</td>\n",
       "    </tr>\n",
       "    <tr>\n",
       "      <th>Tree Regresion</th>\n",
       "      <td>0.198741</td>\n",
       "      <td>0.198741</td>\n",
       "    </tr>\n",
       "  </tbody>\n",
       "</table>\n",
       "</div>"
      ],
      "text/plain": [
       "                   $RMS$ considerando dados TREINAMENTO  \\\n",
       "Mean                                           0.277442   \n",
       "K-NN                                           0.198899   \n",
       "Linear Regression                              0.246119   \n",
       "Tree Regresion                                 0.198741   \n",
       "\n",
       "                   $RMS$ considerando dados TESTE  \n",
       "Mean                                     0.237355  \n",
       "K-NN                                     0.204205  \n",
       "Linear Regression                        0.246119  \n",
       "Tree Regresion                           0.198741  "
      ]
     },
     "execution_count": 30,
     "metadata": {},
     "output_type": "execute_result"
    }
   ],
   "source": [
    "RMS_table"
   ]
  },
  {
   "cell_type": "markdown",
   "metadata": {},
   "source": [
    "A tabela abaixo relaciona o erro $RMS$ considerando dados TREINAMENTO e TESTE com os diferentes modelos estatísticos implementados."
   ]
  },
  {
   "cell_type": "code",
   "execution_count": 29,
   "metadata": {},
   "outputs": [
    {
     "data": {
      "text/html": [
       "<div>\n",
       "<style scoped>\n",
       "    .dataframe tbody tr th:only-of-type {\n",
       "        vertical-align: middle;\n",
       "    }\n",
       "\n",
       "    .dataframe tbody tr th {\n",
       "        vertical-align: top;\n",
       "    }\n",
       "\n",
       "    .dataframe thead th {\n",
       "        text-align: right;\n",
       "    }\n",
       "</style>\n",
       "<table border=\"1\" class=\"dataframe\">\n",
       "  <thead>\n",
       "    <tr style=\"text-align: right;\">\n",
       "      <th></th>\n",
       "      <th>$R^2$ considerando dados TREINAMENTO</th>\n",
       "      <th>$R^2$ considerando dados TESTE</th>\n",
       "    </tr>\n",
       "  </thead>\n",
       "  <tbody>\n",
       "    <tr>\n",
       "      <th>Mean</th>\n",
       "      <td>0.000000</td>\n",
       "      <td>0.000000</td>\n",
       "    </tr>\n",
       "    <tr>\n",
       "      <th>K-NN</th>\n",
       "      <td>0.244169</td>\n",
       "      <td>0.245536</td>\n",
       "    </tr>\n",
       "    <tr>\n",
       "      <th>Linear Regression</th>\n",
       "      <td>0.052185</td>\n",
       "      <td>0.060947</td>\n",
       "    </tr>\n",
       "    <tr>\n",
       "      <th>Tree Regresion</th>\n",
       "      <td>0.239057</td>\n",
       "      <td>0.239057</td>\n",
       "    </tr>\n",
       "  </tbody>\n",
       "</table>\n",
       "</div>"
      ],
      "text/plain": [
       "                   $R^2$ considerando dados TREINAMENTO  \\\n",
       "Mean                                           0.000000   \n",
       "K-NN                                           0.244169   \n",
       "Linear Regression                              0.052185   \n",
       "Tree Regresion                                 0.239057   \n",
       "\n",
       "                   $R^2$ considerando dados TESTE  \n",
       "Mean                                     0.000000  \n",
       "K-NN                                     0.245536  \n",
       "Linear Regression                        0.060947  \n",
       "Tree Regresion                           0.239057  "
      ]
     },
     "execution_count": 29,
     "metadata": {},
     "output_type": "execute_result"
    }
   ],
   "source": [
    "R2_table"
   ]
  },
  {
   "cell_type": "markdown",
   "metadata": {},
   "source": [
    "___\n",
    "## E. CONCLUSÃO"
   ]
  },
  {
   "cell_type": "markdown",
   "metadata": {},
   "source": [
    "As duas tabelas acima nos mostram a medida de erro ($RMS$) e a medida de qualidade ($R^2$) com relação aos diversos modelos implementados. Assim sendo, temos que:\n",
    "\n",
    "* Se tratando de $R^2$, quanto maior o valor, melhor\n",
    "* Se tratando de $RMS$, quanto menor o valor, melhor\n",
    "\n",
    "Portanto, o melhor modelo é aquele com o maior valor de $R^2$ e com o menor valor de $RMS$."
   ]
  },
  {
   "cell_type": "markdown",
   "metadata": {},
   "source": []
  },
  {
   "cell_type": "code",
   "execution_count": null,
   "metadata": {},
   "outputs": [],
   "source": []
  },
  {
   "cell_type": "code",
   "execution_count": null,
   "metadata": {},
   "outputs": [],
   "source": []
  },
  {
   "cell_type": "markdown",
   "metadata": {},
   "source": [
    "___\n",
    "## F. REFERÊNCIAS BIBLIOGRÁFICAS"
   ]
  },
  {
   "cell_type": "markdown",
   "metadata": {},
   "source": [
    "Os seguintes links foram usados para a elaboração deste projeto:\n",
    "\n",
    "> https://scikit-learn.org/\n",
    ">\n",
    "> https://medium.com/data-py-blog/decision-tree-regression-in-python-b185a3c63f2b\n",
    ">\n",
    "> https://scikit-learn.org/stable/modules/generated/sklearn.linear_model.LinearRegression.html\n",
    ">\n",
    "> https://educationalresearchtechniques.com/2018/11/02/k-nearest-neighbor-regression-with-python/\n",
    ">\n",
    "> https://scikit-learn.org/stable/modules/generated/sklearn.metrics.r2_score.html\n",
    ">\n",
    "> https://seaborn.pydata.org/generated/seaborn.set_style.html?highlight=set_style#seaborn.set_style\n",
    ">\n",
    "> https://seaborn.pydata.org/search.html?q=set_style&check_keywords=yes&area=default"
   ]
  }
 ],
 "metadata": {
  "anaconda-cloud": {},
  "kernelspec": {
   "display_name": "Python 3",
   "language": "python",
   "name": "python3"
  },
  "language_info": {
   "codemirror_mode": {
    "name": "ipython",
    "version": 3
   },
   "file_extension": ".py",
   "mimetype": "text/x-python",
   "name": "python",
   "nbconvert_exporter": "python",
   "pygments_lexer": "ipython3",
   "version": "3.7.1"
  }
 },
 "nbformat": 4,
 "nbformat_minor": 1
}
