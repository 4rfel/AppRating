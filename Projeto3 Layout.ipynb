{
 "cells": [
  {
   "cell_type": "markdown",
   "metadata": {},
   "source": [
    "___\n",
    "## Ciência dos Dados - PROJETO 3 - INSPER"
   ]
  },
  {
   "cell_type": "markdown",
   "metadata": {},
   "source": [
    "___\n",
    "#### Arthur Alegro de Oliveira\n",
    "\n",
    "#### Rafael dos Santos\n",
    "\n",
    "#### José Antônio Bechara\n",
    "\n",
    "___"
   ]
  },
  {
   "cell_type": "markdown",
   "metadata": {},
   "source": [
    "# Classificação de Apps"
   ]
  },
  {
   "cell_type": "markdown",
   "metadata": {},
   "source": [
    "___\n",
    "\n",
    "## A. INTRODUÇÃO"
   ]
  },
  {
   "cell_type": "markdown",
   "metadata": {},
   "source": [
    "Objetivo: Prever a nota de um app da PlayStore"
   ]
  },
  {
   "cell_type": "markdown",
   "metadata": {},
   "source": [
    "___\n",
    "## B. MINERANDO DADOS e CARACTERÍSTICAS DO DATASET"
   ]
  },
  {
   "cell_type": "code",
   "execution_count": 1,
   "metadata": {},
   "outputs": [],
   "source": [
    "import matplotlib.pyplot as plt\n",
    "import statsmodels.api as sm\n",
    "import numpy as np\n",
    "import pandas as pd\n",
    "import json\n",
    "import os"
   ]
  },
  {
   "cell_type": "markdown",
   "metadata": {},
   "source": [
    "### BASE DE DADOS"
   ]
  },
  {
   "cell_type": "code",
   "execution_count": 2,
   "metadata": {},
   "outputs": [],
   "source": [
    "# Reading Google Play Store data:\n",
    "Google_data = pd.read_csv('googleplaystore.csv')"
   ]
  },
  {
   "cell_type": "code",
   "execution_count": 3,
   "metadata": {
    "scrolled": false
   },
   "outputs": [
    {
     "data": {
      "text/html": [
       "<div>\n",
       "<style scoped>\n",
       "    .dataframe tbody tr th:only-of-type {\n",
       "        vertical-align: middle;\n",
       "    }\n",
       "\n",
       "    .dataframe tbody tr th {\n",
       "        vertical-align: top;\n",
       "    }\n",
       "\n",
       "    .dataframe thead th {\n",
       "        text-align: right;\n",
       "    }\n",
       "</style>\n",
       "<table border=\"1\" class=\"dataframe\">\n",
       "  <thead>\n",
       "    <tr style=\"text-align: right;\">\n",
       "      <th></th>\n",
       "      <th>App</th>\n",
       "      <th>Category</th>\n",
       "      <th>Rating</th>\n",
       "      <th>Reviews</th>\n",
       "      <th>Size</th>\n",
       "      <th>Installs</th>\n",
       "      <th>Type</th>\n",
       "      <th>Price</th>\n",
       "      <th>Content Rating</th>\n",
       "      <th>Genres</th>\n",
       "      <th>Last Updated</th>\n",
       "      <th>Current Ver</th>\n",
       "      <th>Android Ver</th>\n",
       "    </tr>\n",
       "  </thead>\n",
       "  <tbody>\n",
       "    <tr>\n",
       "      <th>0</th>\n",
       "      <td>Photo Editor &amp; Candy Camera &amp; Grid &amp; ScrapBook</td>\n",
       "      <td>ART_AND_DESIGN</td>\n",
       "      <td>4.1</td>\n",
       "      <td>159</td>\n",
       "      <td>19M</td>\n",
       "      <td>10,000+</td>\n",
       "      <td>Free</td>\n",
       "      <td>0</td>\n",
       "      <td>Everyone</td>\n",
       "      <td>Art &amp; Design</td>\n",
       "      <td>January 7, 2018</td>\n",
       "      <td>1.0.0</td>\n",
       "      <td>4.0.3 and up</td>\n",
       "    </tr>\n",
       "  </tbody>\n",
       "</table>\n",
       "</div>"
      ],
      "text/plain": [
       "                                              App        Category  Rating  \\\n",
       "0  Photo Editor & Candy Camera & Grid & ScrapBook  ART_AND_DESIGN     4.1   \n",
       "\n",
       "  Reviews Size Installs  Type Price Content Rating        Genres  \\\n",
       "0     159  19M  10,000+  Free     0       Everyone  Art & Design   \n",
       "\n",
       "      Last Updated Current Ver   Android Ver  \n",
       "0  January 7, 2018       1.0.0  4.0.3 and up  "
      ]
     },
     "execution_count": 3,
     "metadata": {},
     "output_type": "execute_result"
    }
   ],
   "source": [
    "Google_data.head(1)"
   ]
  },
  {
   "cell_type": "markdown",
   "metadata": {},
   "source": [
    "Ao analisar o *database* notamos que algumas colunas possuem dados numéricos em sua essência, mas por possuir outros caracteres são interpretados como texto. A seguir, serão destrinchados os problemas em cada umas dessas colunas. As funções que serão usadas já estão definidas abaixo:"
   ]
  },
  {
   "cell_type": "code",
   "execution_count": 4,
   "metadata": {},
   "outputs": [],
   "source": [
    "def remove_last_char(word):\n",
    "    new_word = word[:-1]\n",
    "    return new_word\n",
    "\n",
    "def remove_comma(word):\n",
    "    new_word = \"\".join(word.split(','))\n",
    "    return new_word\n",
    "\n",
    "def remove_first_char(word):\n",
    "    if '$' in word:\n",
    "        new_word = word[1:]\n",
    "        return new_word\n",
    "    else:\n",
    "        return word"
   ]
  },
  {
   "cell_type": "markdown",
   "metadata": {},
   "source": [
    "Coluna `Size`:  \n",
    "* possui o último caractere não numérico"
   ]
  },
  {
   "cell_type": "code",
   "execution_count": 5,
   "metadata": {},
   "outputs": [],
   "source": [
    "Google_data['Size'] = Google_data['Size'].apply(remove_last_char)"
   ]
  },
  {
   "cell_type": "markdown",
   "metadata": {},
   "source": [
    " Coluna `Installs`:  \n",
    " * possui o último caractere não numérico\n",
    " * possui vírgulas como separador a cada $10^3$\n",
    " * possui dois tipos valores não itendificados (`Fre` e ` ` ) que serão descartados"
   ]
  },
  {
   "cell_type": "code",
   "execution_count": 6,
   "metadata": {},
   "outputs": [],
   "source": [
    "Google_data['Installs'] = Google_data['Installs'].apply(remove_last_char)\n",
    "Google_data['Installs'] = Google_data['Installs'].apply(remove_comma)\n",
    "Google_data['Installs'] = Google_data['Installs'][Google_data['Installs'] != 'Fre']\n",
    "Google_data['Installs'] = Google_data['Installs'][Google_data['Installs'] != '']"
   ]
  },
  {
   "cell_type": "markdown",
   "metadata": {},
   "source": [
    " Coluna `Price`: \n",
    "* possui o primeiro caractere $\\$$ quando não é valor nulo (ou seja, quando o aplicativo é gratuito)\n",
    "* possui um tipo de valor não identificado (`Everyone`) que será descartado"
   ]
  },
  {
   "cell_type": "code",
   "execution_count": 7,
   "metadata": {},
   "outputs": [],
   "source": [
    "Google_data['Price'] = Google_data['Price'].apply(remove_first_char)\n",
    "Google_data['Price'] = Google_data['Price'][Google_data['Price'] != 'Everyone']"
   ]
  },
  {
   "cell_type": "markdown",
   "metadata": {},
   "source": [
    "Coluna `Reviews`:\n",
    "* Possui um valor $3.0M$ (equivalente a $3000000$)"
   ]
  },
  {
   "cell_type": "code",
   "execution_count": 8,
   "metadata": {},
   "outputs": [],
   "source": [
    "Google_data['Reviews'] = Google_data['Reviews'].mask(Google_data['Reviews'] == '3.0M', 3000000)"
   ]
  },
  {
   "cell_type": "markdown",
   "metadata": {},
   "source": [
    "Com todas as filtragens e correções feitas, é possível modificar o tipo de dado para cada coluna de acordo com a necessidade. Logo, as colunas com valores qualitativos serão interpretadas como `category`, enquanto as colunas com valores quantitativos serão interpretadas como `float` ou `int`(dependendo se os valores originais possuem ou não casas decimais)."
   ]
  },
  {
   "cell_type": "code",
   "execution_count": 9,
   "metadata": {},
   "outputs": [],
   "source": [
    "Google_data['Category'] = Google_data['Category'].astype('category')\n",
    "Google_data['Rating'] = Google_data['Rating'].astype('float64')\n",
    "Google_data['Reviews'] = Google_data['Reviews'].astype('float64')\n",
    "Google_data['Installs'] = Google_data['Installs'].astype('float64')\n",
    "Google_data['Price'] = Google_data['Price'].astype('float64')\n",
    "Google_data['Content Rating'] = Google_data['Content Rating'].astype('category')\n",
    "Google_data['Genres'] = Google_data['Genres'].astype('category')"
   ]
  },
  {
   "cell_type": "code",
   "execution_count": 10,
   "metadata": {},
   "outputs": [],
   "source": [
    "usefull_columns = [\"App\", \"Category\", \"Rating\", \"Reviews\", \"Installs\", \"Price\", \"Content Rating\", \"Genres\"]\n",
    "Google_data = Google_data[usefull_columns]"
   ]
  },
  {
   "cell_type": "markdown",
   "metadata": {},
   "source": [
    "App --> str, ex:'Photo Editor & Candy Camera & Grid & ScrapBook' <br>\n",
    "Category --> str, ex: 'ART_AND_DESIGN' <br>\n",
    "Rating --> float, ex: 4.0999999 <br>\n",
    "Reviews --> str, ex: 159 <br>\n",
    "Installs --> str, ex: 10,000+ <br>\n",
    "Price --> str, ex: '0' <br>\n",
    "Content Rating --> str, ex: Everyone <br>\n",
    "Genres --> str, ex: 'Art & Design' <br>"
   ]
  },
  {
   "cell_type": "code",
   "execution_count": 11,
   "metadata": {},
   "outputs": [],
   "source": [
    "def dummify(data, column_name):\n",
    "    df = data.copy()\n",
    "    df2 = pd.concat([df.drop(column_name, axis=1), pd.get_dummies(data[column_name], prefix=column_name)], axis=1)\n",
    "    return df2"
   ]
  },
  {
   "cell_type": "code",
   "execution_count": 12,
   "metadata": {},
   "outputs": [],
   "source": [
    "Google_data = dummify(Google_data, \"Category\")\n",
    "Google_data = dummify(Google_data, \"Content Rating\")\n",
    "Google_data = dummify(Google_data, \"Genres\")"
   ]
  },
  {
   "cell_type": "markdown",
   "metadata": {},
   "source": [
    "### ANÁLISE DESCRITIVA"
   ]
  },
  {
   "cell_type": "code",
   "execution_count": null,
   "metadata": {},
   "outputs": [],
   "source": []
  },
  {
   "cell_type": "code",
   "execution_count": null,
   "metadata": {},
   "outputs": [],
   "source": []
  },
  {
   "cell_type": "markdown",
   "metadata": {},
   "source": [
    "___\n",
    "## C. MODELOS DE PREDIÇÃO"
   ]
  },
  {
   "cell_type": "markdown",
   "metadata": {
    "collapsed": true
   },
   "source": [
    "o MODELO DE PREDIÇÃO PELA MÉDIA (Sem uso de variável explicativa)."
   ]
  },
  {
   "cell_type": "code",
   "execution_count": null,
   "metadata": {},
   "outputs": [],
   "source": []
  },
  {
   "cell_type": "code",
   "execution_count": null,
   "metadata": {},
   "outputs": [],
   "source": []
  },
  {
   "cell_type": "markdown",
   "metadata": {
    "collapsed": true
   },
   "source": [
    "o MODELO DOS K VIZINHOS MAIS PRÓXIMOS (K-Nearest Neighbors Regression)"
   ]
  },
  {
   "cell_type": "code",
   "execution_count": null,
   "metadata": {},
   "outputs": [],
   "source": []
  },
  {
   "cell_type": "code",
   "execution_count": null,
   "metadata": {},
   "outputs": [],
   "source": []
  },
  {
   "cell_type": "markdown",
   "metadata": {
    "collapsed": true
   },
   "source": [
    "o MODELO DE REGRESSÃO LINEAR (Multiple Linear Regression)"
   ]
  },
  {
   "cell_type": "code",
   "execution_count": 61,
   "metadata": {},
   "outputs": [],
   "source": [
    "def regress(X,Y):\n",
    "    X_cp = sm.add_constant(X)\n",
    "    model = sm.OLS(Y,X_cp)\n",
    "    results = model.fit()\n",
    "    return results\n",
    "\n",
    "def variablesLessAlpha(df, listX, y, alpha=0.05):\n",
    "    '''\n",
    "    Exclui todas as variaveis em que o P>|t| for maior que o alpha e retorna uma regressão linear\n",
    "    \n",
    "    df --> DataFrame\n",
    "    listX --> Lista de variaveis independentes\n",
    "    y --> Variavel dependente/a ser analizada \n",
    "    alpha --> nivel de significancia, 5% como padrão'''\n",
    "    \n",
    "    y = df[[y]]\n",
    "    xs = df[listX]\n",
    "    results = regress(xs, y)\n",
    "    \n",
    "    actual_max = max(results.pvalues)\n",
    "    while actual_max > alpha:\n",
    "        actual_max = max(results.pvalues)\n",
    "        j = 0\n",
    "        if actual_max > alpha:\n",
    "            for e in list(results.pvalues):\n",
    "                j += 1\n",
    "                if e == actual_max:\n",
    "                    break\n",
    "            listX.remove(listX[j-2])\n",
    "            xs = df[listX]\n",
    "            results = regress(xs, y)\n",
    "            \n",
    "    return results"
   ]
  },
  {
   "cell_type": "code",
   "execution_count": 62,
   "metadata": {
    "scrolled": false
   },
   "outputs": [
    {
     "name": "stderr",
     "output_type": "stream",
     "text": [
      "/anaconda3/lib/python3.6/site-packages/statsmodels/base/model.py:1100: RuntimeWarning: invalid value encountered in true_divide\n",
      "  return self.params / self.bse\n",
      "/anaconda3/lib/python3.6/site-packages/scipy/stats/_distn_infrastructure.py:879: RuntimeWarning: invalid value encountered in greater\n",
      "  return (self.a < x) & (x < self.b)\n",
      "/anaconda3/lib/python3.6/site-packages/scipy/stats/_distn_infrastructure.py:879: RuntimeWarning: invalid value encountered in less\n",
      "  return (self.a < x) & (x < self.b)\n",
      "/anaconda3/lib/python3.6/site-packages/scipy/stats/_distn_infrastructure.py:1821: RuntimeWarning: invalid value encountered in less_equal\n",
      "  cond2 = cond0 & (x <= self.a)\n"
     ]
    },
    {
     "data": {
      "text/html": [
       "<table class=\"simpletable\">\n",
       "<caption>OLS Regression Results</caption>\n",
       "<tr>\n",
       "  <th>Dep. Variable:</th>         <td>Rating</td>      <th>  R-squared:         </th> <td>   0.044</td> \n",
       "</tr>\n",
       "<tr>\n",
       "  <th>Model:</th>                   <td>OLS</td>       <th>  Adj. R-squared:    </th> <td>   0.040</td> \n",
       "</tr>\n",
       "<tr>\n",
       "  <th>Method:</th>             <td>Least Squares</td>  <th>  F-statistic:       </th> <td>   12.14</td> \n",
       "</tr>\n",
       "<tr>\n",
       "  <th>Date:</th>             <td>Tue, 21 May 2019</td> <th>  Prob (F-statistic):</th> <td>9.25e-67</td> \n",
       "</tr>\n",
       "<tr>\n",
       "  <th>Time:</th>                 <td>14:30:45</td>     <th>  Log-Likelihood:    </th> <td> -6869.5</td> \n",
       "</tr>\n",
       "<tr>\n",
       "  <th>No. Observations:</th>      <td>  9366</td>      <th>  AIC:               </th> <td>1.381e+04</td>\n",
       "</tr>\n",
       "<tr>\n",
       "  <th>Df Residuals:</th>          <td>  9330</td>      <th>  BIC:               </th> <td>1.407e+04</td>\n",
       "</tr>\n",
       "<tr>\n",
       "  <th>Df Model:</th>              <td>    35</td>      <th>                     </th>     <td> </td>    \n",
       "</tr>\n",
       "<tr>\n",
       "  <th>Covariance Type:</th>      <td>nonrobust</td>    <th>                     </th>     <td> </td>    \n",
       "</tr>\n",
       "</table>\n",
       "<table class=\"simpletable\">\n",
       "<tr>\n",
       "                <td></td>                  <th>coef</th>     <th>std err</th>      <th>t</th>      <th>P>|t|</th>  <th>[0.025</th>    <th>0.975]</th>  \n",
       "</tr>\n",
       "<tr>\n",
       "  <th>const</th>                        <td>    4.1358</td> <td>    0.017</td> <td>  245.610</td> <td> 0.000</td> <td>    4.103</td> <td>    4.169</td>\n",
       "</tr>\n",
       "<tr>\n",
       "  <th>Reviews</th>                      <td> 9.492e-09</td> <td> 1.71e-09</td> <td>    5.564</td> <td> 0.000</td> <td> 6.15e-09</td> <td> 1.28e-08</td>\n",
       "</tr>\n",
       "<tr>\n",
       "  <th>Category_ART_AND_DESIGN</th>      <td>    0.2553</td> <td>    0.065</td> <td>    3.943</td> <td> 0.000</td> <td>    0.128</td> <td>    0.382</td>\n",
       "</tr>\n",
       "<tr>\n",
       "  <th>Category_BEAUTY</th>              <td>    0.0879</td> <td>    0.039</td> <td>    2.241</td> <td> 0.025</td> <td>    0.011</td> <td>    0.165</td>\n",
       "</tr>\n",
       "<tr>\n",
       "  <th>Category_BOOKS_AND_REFERENCE</th> <td>    0.1196</td> <td>    0.019</td> <td>    6.144</td> <td> 0.000</td> <td>    0.081</td> <td>    0.158</td>\n",
       "</tr>\n",
       "<tr>\n",
       "  <th>Category_DATING</th>              <td>   -0.0818</td> <td>    0.020</td> <td>   -4.131</td> <td> 0.000</td> <td>   -0.121</td> <td>   -0.043</td>\n",
       "</tr>\n",
       "<tr>\n",
       "  <th>Category_EDUCATION</th>           <td>    0.2837</td> <td>    0.042</td> <td>    6.829</td> <td> 0.000</td> <td>    0.202</td> <td>    0.365</td>\n",
       "</tr>\n",
       "<tr>\n",
       "  <th>Category_ENTERTAINMENT</th>       <td>    0.1796</td> <td>    0.051</td> <td>    3.537</td> <td> 0.000</td> <td>    0.080</td> <td>    0.279</td>\n",
       "</tr>\n",
       "<tr>\n",
       "  <th>Category_EVENTS</th>              <td>    0.1641</td> <td>    0.038</td> <td>    4.329</td> <td> 0.000</td> <td>    0.090</td> <td>    0.238</td>\n",
       "</tr>\n",
       "<tr>\n",
       "  <th>Category_FAMILY</th>              <td>    0.1719</td> <td>    0.019</td> <td>    9.240</td> <td> 0.000</td> <td>    0.135</td> <td>    0.208</td>\n",
       "</tr>\n",
       "<tr>\n",
       "  <th>Category_GAME</th>                <td>    0.3743</td> <td>    0.040</td> <td>    9.416</td> <td> 0.000</td> <td>    0.296</td> <td>    0.452</td>\n",
       "</tr>\n",
       "<tr>\n",
       "  <th>Category_HEALTH_AND_FITNESS</th>  <td>    0.0861</td> <td>    0.015</td> <td>    5.615</td> <td> 0.000</td> <td>    0.056</td> <td>    0.116</td>\n",
       "</tr>\n",
       "<tr>\n",
       "  <th>Category_MEDICAL</th>             <td>    0.0436</td> <td>    0.014</td> <td>    3.063</td> <td> 0.002</td> <td>    0.016</td> <td>    0.071</td>\n",
       "</tr>\n",
       "<tr>\n",
       "  <th>Category_PERSONALIZATION</th>     <td>    0.1142</td> <td>    0.015</td> <td>    7.643</td> <td> 0.000</td> <td>    0.085</td> <td>    0.144</td>\n",
       "</tr>\n",
       "<tr>\n",
       "  <th>Category_PHOTOGRAPHY</th>         <td>    0.0418</td> <td>    0.015</td> <td>    2.810</td> <td> 0.005</td> <td>    0.013</td> <td>    0.071</td>\n",
       "</tr>\n",
       "<tr>\n",
       "  <th>Category_PRODUCTIVITY</th>        <td>    0.0539</td> <td>    0.014</td> <td>    3.788</td> <td> 0.000</td> <td>    0.026</td> <td>    0.082</td>\n",
       "</tr>\n",
       "<tr>\n",
       "  <th>Category_SHOPPING</th>            <td>    0.0736</td> <td>    0.017</td> <td>    4.331</td> <td> 0.000</td> <td>    0.040</td> <td>    0.107</td>\n",
       "</tr>\n",
       "<tr>\n",
       "  <th>Category_SOCIAL</th>              <td>    0.0543</td> <td>    0.017</td> <td>    3.197</td> <td> 0.001</td> <td>    0.021</td> <td>    0.088</td>\n",
       "</tr>\n",
       "<tr>\n",
       "  <th>Category_SPORTS</th>              <td>    0.1163</td> <td>    0.030</td> <td>    3.919</td> <td> 0.000</td> <td>    0.058</td> <td>    0.174</td>\n",
       "</tr>\n",
       "<tr>\n",
       "  <th>Category_WEATHER</th>             <td>    0.0700</td> <td>    0.029</td> <td>    2.375</td> <td> 0.018</td> <td>    0.012</td> <td>    0.128</td>\n",
       "</tr>\n",
       "<tr>\n",
       "  <th>Content Rating_Everyone</th>      <td>   -0.0357</td> <td>    0.016</td> <td>   -2.301</td> <td> 0.021</td> <td>   -0.066</td> <td>   -0.005</td>\n",
       "</tr>\n",
       "<tr>\n",
       "  <th>Genres_Action</th>                <td>   -0.2246</td> <td>    0.048</td> <td>   -4.709</td> <td> 0.000</td> <td>   -0.318</td> <td>   -0.131</td>\n",
       "</tr>\n",
       "<tr>\n",
       "  <th>Genres_Adventure</th>             <td>   -0.3200</td> <td>    0.071</td> <td>   -4.509</td> <td> 0.000</td> <td>   -0.459</td> <td>   -0.181</td>\n",
       "</tr>\n",
       "<tr>\n",
       "  <th>Genres_Arcade</th>                <td>   -0.1973</td> <td>    0.052</td> <td>   -3.785</td> <td> 0.000</td> <td>   -0.299</td> <td>   -0.095</td>\n",
       "</tr>\n",
       "<tr>\n",
       "  <th>Genres_Beauty</th>                <td>    0.0879</td> <td>    0.039</td> <td>    2.241</td> <td> 0.025</td> <td>    0.011</td> <td>    0.165</td>\n",
       "</tr>\n",
       "<tr>\n",
       "  <th>Genres_Board</th>                 <td>   -0.1880</td> <td>    0.088</td> <td>   -2.140</td> <td> 0.032</td> <td>   -0.360</td> <td>   -0.016</td>\n",
       "</tr>\n",
       "<tr>\n",
       "  <th>Genres_Books & Reference</th>     <td>    0.1196</td> <td>    0.019</td> <td>    6.144</td> <td> 0.000</td> <td>    0.081</td> <td>    0.158</td>\n",
       "</tr>\n",
       "<tr>\n",
       "  <th>Genres_Card</th>                  <td>   -0.4067</td> <td>    0.085</td> <td>   -4.797</td> <td> 0.000</td> <td>   -0.573</td> <td>   -0.240</td>\n",
       "</tr>\n",
       "<tr>\n",
       "  <th>Genres_Casino</th>                <td>   -0.2230</td> <td>    0.092</td> <td>   -2.415</td> <td> 0.016</td> <td>   -0.404</td> <td>   -0.042</td>\n",
       "</tr>\n",
       "<tr>\n",
       "  <th>Genres_Casual</th>                <td>   -0.1988</td> <td>    0.041</td> <td>   -4.884</td> <td> 0.000</td> <td>   -0.279</td> <td>   -0.119</td>\n",
       "</tr>\n",
       "<tr>\n",
       "  <th>Genres_Dating</th>                <td>   -0.0818</td> <td>    0.020</td> <td>   -4.131</td> <td> 0.000</td> <td>   -0.121</td> <td>   -0.043</td>\n",
       "</tr>\n",
       "<tr>\n",
       "  <th>Genres_Educational</th>           <td>   -0.4170</td> <td>    0.091</td> <td>   -4.590</td> <td> 0.000</td> <td>   -0.595</td> <td>   -0.239</td>\n",
       "</tr>\n",
       "<tr>\n",
       "  <th>Genres_Entertainment</th>         <td>   -0.2013</td> <td>    0.030</td> <td>   -6.794</td> <td> 0.000</td> <td>   -0.259</td> <td>   -0.143</td>\n",
       "</tr>\n",
       "<tr>\n",
       "  <th>Genres_Events</th>                <td>    0.1641</td> <td>    0.038</td> <td>    4.329</td> <td> 0.000</td> <td>    0.090</td> <td>    0.238</td>\n",
       "</tr>\n",
       "<tr>\n",
       "  <th>Genres_Health & Fitness</th>      <td>    0.0861</td> <td>    0.015</td> <td>    5.615</td> <td> 0.000</td> <td>    0.056</td> <td>    0.116</td>\n",
       "</tr>\n",
       "<tr>\n",
       "  <th>Genres_Medical</th>               <td>    0.0436</td> <td>    0.014</td> <td>    3.063</td> <td> 0.002</td> <td>    0.016</td> <td>    0.071</td>\n",
       "</tr>\n",
       "<tr>\n",
       "  <th>Genres_Music</th>                 <td>   -0.2712</td> <td>    0.117</td> <td>   -2.323</td> <td> 0.020</td> <td>   -0.500</td> <td>   -0.042</td>\n",
       "</tr>\n",
       "<tr>\n",
       "  <th>Genres_Parenting</th>             <td>    0.2378</td> <td>    0.080</td> <td>    2.961</td> <td> 0.003</td> <td>    0.080</td> <td>    0.395</td>\n",
       "</tr>\n",
       "<tr>\n",
       "  <th>Genres_Personalization</th>       <td>    0.1142</td> <td>    0.015</td> <td>    7.643</td> <td> 0.000</td> <td>    0.085</td> <td>    0.144</td>\n",
       "</tr>\n",
       "<tr>\n",
       "  <th>Genres_Photography</th>           <td>    0.0418</td> <td>    0.015</td> <td>    2.810</td> <td> 0.005</td> <td>    0.013</td> <td>    0.071</td>\n",
       "</tr>\n",
       "<tr>\n",
       "  <th>Genres_Productivity</th>          <td>    0.0539</td> <td>    0.014</td> <td>    3.788</td> <td> 0.000</td> <td>    0.026</td> <td>    0.082</td>\n",
       "</tr>\n",
       "<tr>\n",
       "  <th>Genres_Racing</th>                <td>   -0.3189</td> <td>    0.065</td> <td>   -4.903</td> <td> 0.000</td> <td>   -0.446</td> <td>   -0.191</td>\n",
       "</tr>\n",
       "<tr>\n",
       "  <th>Genres_Shopping</th>              <td>    0.0736</td> <td>    0.017</td> <td>    4.331</td> <td> 0.000</td> <td>    0.040</td> <td>    0.107</td>\n",
       "</tr>\n",
       "<tr>\n",
       "  <th>Genres_Simulation</th>            <td>   -0.1454</td> <td>    0.040</td> <td>   -3.670</td> <td> 0.000</td> <td>   -0.223</td> <td>   -0.068</td>\n",
       "</tr>\n",
       "<tr>\n",
       "  <th>Genres_Social</th>                <td>    0.0543</td> <td>    0.017</td> <td>    3.197</td> <td> 0.001</td> <td>    0.021</td> <td>    0.088</td>\n",
       "</tr>\n",
       "<tr>\n",
       "  <th>Genres_Strategy</th>              <td>   -0.1301</td> <td>    0.053</td> <td>   -2.442</td> <td> 0.015</td> <td>   -0.234</td> <td>   -0.026</td>\n",
       "</tr>\n",
       "<tr>\n",
       "  <th>Genres_Trivia</th>                <td>   -0.4427</td> <td>    0.103</td> <td>   -4.300</td> <td> 0.000</td> <td>   -0.645</td> <td>   -0.241</td>\n",
       "</tr>\n",
       "<tr>\n",
       "  <th>Genres_Trivia;Education</th>      <td>         0</td> <td>        0</td> <td>      nan</td> <td>   nan</td> <td>        0</td> <td>        0</td>\n",
       "</tr>\n",
       "<tr>\n",
       "  <th>Genres_Weather</th>               <td>    0.0700</td> <td>    0.029</td> <td>    2.375</td> <td> 0.018</td> <td>    0.012</td> <td>    0.128</td>\n",
       "</tr>\n",
       "</table>\n",
       "<table class=\"simpletable\">\n",
       "<tr>\n",
       "  <th>Omnibus:</th>       <td>3571.920</td> <th>  Durbin-Watson:     </th> <td>   1.816</td> \n",
       "</tr>\n",
       "<tr>\n",
       "  <th>Prob(Omnibus):</th>  <td> 0.000</td>  <th>  Jarque-Bera (JB):  </th> <td>18166.576</td>\n",
       "</tr>\n",
       "<tr>\n",
       "  <th>Skew:</th>           <td>-1.780</td>  <th>  Prob(JB):          </th> <td>    0.00</td> \n",
       "</tr>\n",
       "<tr>\n",
       "  <th>Kurtosis:</th>       <td> 8.820</td>  <th>  Cond. No.          </th> <td>1.01e+16</td> \n",
       "</tr>\n",
       "</table><br/><br/>Warnings:<br/>[1] Standard Errors assume that the covariance matrix of the errors is correctly specified.<br/>[2] The smallest eigenvalue is 9.24e-16. This might indicate that there are<br/>strong multicollinearity problems or that the design matrix is singular."
      ],
      "text/plain": [
       "<class 'statsmodels.iolib.summary.Summary'>\n",
       "\"\"\"\n",
       "                            OLS Regression Results                            \n",
       "==============================================================================\n",
       "Dep. Variable:                 Rating   R-squared:                       0.044\n",
       "Model:                            OLS   Adj. R-squared:                  0.040\n",
       "Method:                 Least Squares   F-statistic:                     12.14\n",
       "Date:                Tue, 21 May 2019   Prob (F-statistic):           9.25e-67\n",
       "Time:                        14:30:45   Log-Likelihood:                -6869.5\n",
       "No. Observations:                9366   AIC:                         1.381e+04\n",
       "Df Residuals:                    9330   BIC:                         1.407e+04\n",
       "Df Model:                          35                                         \n",
       "Covariance Type:            nonrobust                                         \n",
       "================================================================================================\n",
       "                                   coef    std err          t      P>|t|      [0.025      0.975]\n",
       "------------------------------------------------------------------------------------------------\n",
       "const                            4.1358      0.017    245.610      0.000       4.103       4.169\n",
       "Reviews                       9.492e-09   1.71e-09      5.564      0.000    6.15e-09    1.28e-08\n",
       "Category_ART_AND_DESIGN          0.2553      0.065      3.943      0.000       0.128       0.382\n",
       "Category_BEAUTY                  0.0879      0.039      2.241      0.025       0.011       0.165\n",
       "Category_BOOKS_AND_REFERENCE     0.1196      0.019      6.144      0.000       0.081       0.158\n",
       "Category_DATING                 -0.0818      0.020     -4.131      0.000      -0.121      -0.043\n",
       "Category_EDUCATION               0.2837      0.042      6.829      0.000       0.202       0.365\n",
       "Category_ENTERTAINMENT           0.1796      0.051      3.537      0.000       0.080       0.279\n",
       "Category_EVENTS                  0.1641      0.038      4.329      0.000       0.090       0.238\n",
       "Category_FAMILY                  0.1719      0.019      9.240      0.000       0.135       0.208\n",
       "Category_GAME                    0.3743      0.040      9.416      0.000       0.296       0.452\n",
       "Category_HEALTH_AND_FITNESS      0.0861      0.015      5.615      0.000       0.056       0.116\n",
       "Category_MEDICAL                 0.0436      0.014      3.063      0.002       0.016       0.071\n",
       "Category_PERSONALIZATION         0.1142      0.015      7.643      0.000       0.085       0.144\n",
       "Category_PHOTOGRAPHY             0.0418      0.015      2.810      0.005       0.013       0.071\n",
       "Category_PRODUCTIVITY            0.0539      0.014      3.788      0.000       0.026       0.082\n",
       "Category_SHOPPING                0.0736      0.017      4.331      0.000       0.040       0.107\n",
       "Category_SOCIAL                  0.0543      0.017      3.197      0.001       0.021       0.088\n",
       "Category_SPORTS                  0.1163      0.030      3.919      0.000       0.058       0.174\n",
       "Category_WEATHER                 0.0700      0.029      2.375      0.018       0.012       0.128\n",
       "Content Rating_Everyone         -0.0357      0.016     -2.301      0.021      -0.066      -0.005\n",
       "Genres_Action                   -0.2246      0.048     -4.709      0.000      -0.318      -0.131\n",
       "Genres_Adventure                -0.3200      0.071     -4.509      0.000      -0.459      -0.181\n",
       "Genres_Arcade                   -0.1973      0.052     -3.785      0.000      -0.299      -0.095\n",
       "Genres_Beauty                    0.0879      0.039      2.241      0.025       0.011       0.165\n",
       "Genres_Board                    -0.1880      0.088     -2.140      0.032      -0.360      -0.016\n",
       "Genres_Books & Reference         0.1196      0.019      6.144      0.000       0.081       0.158\n",
       "Genres_Card                     -0.4067      0.085     -4.797      0.000      -0.573      -0.240\n",
       "Genres_Casino                   -0.2230      0.092     -2.415      0.016      -0.404      -0.042\n",
       "Genres_Casual                   -0.1988      0.041     -4.884      0.000      -0.279      -0.119\n",
       "Genres_Dating                   -0.0818      0.020     -4.131      0.000      -0.121      -0.043\n",
       "Genres_Educational              -0.4170      0.091     -4.590      0.000      -0.595      -0.239\n",
       "Genres_Entertainment            -0.2013      0.030     -6.794      0.000      -0.259      -0.143\n",
       "Genres_Events                    0.1641      0.038      4.329      0.000       0.090       0.238\n",
       "Genres_Health & Fitness          0.0861      0.015      5.615      0.000       0.056       0.116\n",
       "Genres_Medical                   0.0436      0.014      3.063      0.002       0.016       0.071\n",
       "Genres_Music                    -0.2712      0.117     -2.323      0.020      -0.500      -0.042\n",
       "Genres_Parenting                 0.2378      0.080      2.961      0.003       0.080       0.395\n",
       "Genres_Personalization           0.1142      0.015      7.643      0.000       0.085       0.144\n",
       "Genres_Photography               0.0418      0.015      2.810      0.005       0.013       0.071\n",
       "Genres_Productivity              0.0539      0.014      3.788      0.000       0.026       0.082\n",
       "Genres_Racing                   -0.3189      0.065     -4.903      0.000      -0.446      -0.191\n",
       "Genres_Shopping                  0.0736      0.017      4.331      0.000       0.040       0.107\n",
       "Genres_Simulation               -0.1454      0.040     -3.670      0.000      -0.223      -0.068\n",
       "Genres_Social                    0.0543      0.017      3.197      0.001       0.021       0.088\n",
       "Genres_Strategy                 -0.1301      0.053     -2.442      0.015      -0.234      -0.026\n",
       "Genres_Trivia                   -0.4427      0.103     -4.300      0.000      -0.645      -0.241\n",
       "Genres_Trivia;Education               0          0        nan        nan           0           0\n",
       "Genres_Weather                   0.0700      0.029      2.375      0.018       0.012       0.128\n",
       "==============================================================================\n",
       "Omnibus:                     3571.920   Durbin-Watson:                   1.816\n",
       "Prob(Omnibus):                  0.000   Jarque-Bera (JB):            18166.576\n",
       "Skew:                          -1.780   Prob(JB):                         0.00\n",
       "Kurtosis:                       8.820   Cond. No.                     1.01e+16\n",
       "==============================================================================\n",
       "\n",
       "Warnings:\n",
       "[1] Standard Errors assume that the covariance matrix of the errors is correctly specified.\n",
       "[2] The smallest eigenvalue is 9.24e-16. This might indicate that there are\n",
       "strong multicollinearity problems or that the design matrix is singular.\n",
       "\"\"\""
      ]
     },
     "execution_count": 62,
     "metadata": {},
     "output_type": "execute_result"
    }
   ],
   "source": [
    "PlayStore_X = list(Google_data.columns)\n",
    "Google_data = Google_data.dropna()\n",
    "PlayStore_X.remove(\"App\")\n",
    "PlayStore_X.remove(\"Rating\")\n",
    "PlayStore_Y = 'Rating'\n",
    "\n",
    "resultsGoogle = variablesLessAlpha(Google_data, PlayStore_X, PlayStore_Y)\n",
    "resultsGoogle.summary()\n"
   ]
  },
  {
   "cell_type": "code",
   "execution_count": null,
   "metadata": {},
   "outputs": [],
   "source": []
  },
  {
   "cell_type": "markdown",
   "metadata": {
    "collapsed": true
   },
   "source": [
    "o MODELO DE ÁRVORES DE REGRESSÃO (Decision Tree Regression)"
   ]
  },
  {
   "cell_type": "code",
   "execution_count": null,
   "metadata": {},
   "outputs": [],
   "source": []
  },
  {
   "cell_type": "code",
   "execution_count": null,
   "metadata": {},
   "outputs": [],
   "source": []
  },
  {
   "cell_type": "markdown",
   "metadata": {
    "collapsed": true
   },
   "source": [
    "___\n",
    "## D. PROCESSO E ESTATÍSTICAS DE VALIDAÇÃO"
   ]
  },
  {
   "cell_type": "markdown",
   "metadata": {},
   "source": [
    "[Esse item depende dos resultados das modelagens anteriores! Organize-os aqui de forma clara!]"
   ]
  },
  {
   "cell_type": "code",
   "execution_count": null,
   "metadata": {},
   "outputs": [],
   "source": []
  },
  {
   "cell_type": "code",
   "execution_count": null,
   "metadata": {},
   "outputs": [],
   "source": []
  },
  {
   "cell_type": "code",
   "execution_count": null,
   "metadata": {},
   "outputs": [],
   "source": []
  },
  {
   "cell_type": "code",
   "execution_count": null,
   "metadata": {},
   "outputs": [],
   "source": []
  },
  {
   "cell_type": "markdown",
   "metadata": {},
   "source": [
    "___\n",
    "## E. CONCLUSÃO"
   ]
  },
  {
   "cell_type": "code",
   "execution_count": null,
   "metadata": {},
   "outputs": [],
   "source": []
  },
  {
   "cell_type": "code",
   "execution_count": null,
   "metadata": {},
   "outputs": [],
   "source": []
  },
  {
   "cell_type": "code",
   "execution_count": null,
   "metadata": {},
   "outputs": [],
   "source": []
  },
  {
   "cell_type": "code",
   "execution_count": null,
   "metadata": {},
   "outputs": [],
   "source": []
  },
  {
   "cell_type": "markdown",
   "metadata": {},
   "source": [
    "___\n",
    "## F. REFERÊNCIAS BIBLIOGRÁFICAS"
   ]
  },
  {
   "cell_type": "code",
   "execution_count": null,
   "metadata": {},
   "outputs": [],
   "source": []
  },
  {
   "cell_type": "code",
   "execution_count": null,
   "metadata": {},
   "outputs": [],
   "source": []
  },
  {
   "cell_type": "code",
   "execution_count": null,
   "metadata": {},
   "outputs": [],
   "source": []
  },
  {
   "cell_type": "code",
   "execution_count": null,
   "metadata": {},
   "outputs": [],
   "source": []
  }
 ],
 "metadata": {
  "anaconda-cloud": {},
  "kernelspec": {
   "display_name": "Python 3",
   "language": "python",
   "name": "python3"
  },
  "language_info": {
   "codemirror_mode": {
    "name": "ipython",
    "version": 3
   },
   "file_extension": ".py",
   "mimetype": "text/x-python",
   "name": "python",
   "nbconvert_exporter": "python",
   "pygments_lexer": "ipython3",
   "version": "3.6.5"
  }
 },
 "nbformat": 4,
 "nbformat_minor": 1
}
